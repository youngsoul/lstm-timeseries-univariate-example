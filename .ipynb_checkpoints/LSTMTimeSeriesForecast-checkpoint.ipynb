{
 "cells": [
  {
   "cell_type": "markdown",
   "id": "7797a041-0a70-4377-940c-3e64f5fcdd58",
   "metadata": {},
   "source": [
    "# LSTM Time Series Forecasting Tutorial in Python, Tensorflow and Keras\n",
    "\n",
    "* Univariate\n",
    "https://www.youtube.com/watch?v=c0k-YLQGKjY\n",
    "\n",
    "\n",
    "* Multivariate\n",
    "https://www.youtube.com/watch?v=kGdbPnMCdOg"
   ]
  },
  {
   "cell_type": "code",
   "execution_count": null,
   "id": "70d2ab2a-89e3-4290-8afb-1eef8f462037",
   "metadata": {},
   "outputs": [],
   "source": []
  },
  {
   "cell_type": "code",
   "execution_count": null,
   "id": "e5e4bd6a-067e-4758-a70d-8dba8f5a4f21",
   "metadata": {},
   "outputs": [],
   "source": []
  },
  {
   "cell_type": "code",
   "execution_count": null,
   "id": "a21a79cd-8443-481e-9bac-5f9e697334d3",
   "metadata": {},
   "outputs": [],
   "source": [
    "!pip install tensorflow pandas numpy matplotlib sklearn"
   ]
  },
  {
   "cell_type": "code",
   "execution_count": 1,
   "id": "222df405-2737-4b8a-906a-24b7023b443c",
   "metadata": {},
   "outputs": [
    {
     "name": "stderr",
     "output_type": "stream",
     "text": [
      "2022-02-19 13:16:57.330515: W tensorflow/stream_executor/platform/default/dso_loader.cc:64] Could not load dynamic library 'libcudart.so.11.0'; dlerror: libcudart.so.11.0: cannot open shared object file: No such file or directory\n",
      "2022-02-19 13:16:57.330545: I tensorflow/stream_executor/cuda/cudart_stub.cc:29] Ignore above cudart dlerror if you do not have a GPU set up on your machine.\n"
     ]
    }
   ],
   "source": [
    "import tensorflow as tf\n",
    "import os\n",
    "import pandas as pd\n",
    "import numpy as np\n",
    "from pathlib import Path\n"
   ]
  },
  {
   "cell_type": "code",
   "execution_count": 2,
   "id": "7c03041f-4427-4d9a-bcf7-0d05d51029fe",
   "metadata": {},
   "outputs": [
    {
     "name": "stdout",
     "output_type": "stream",
     "text": [
      "Downloading data from https://storage.googleapis.com/tensorflow/tf-keras-datasets/jena_climate_2009_2016.csv.zip\n",
      "13574144/13568290 [==============================] - 0s 0us/step\n",
      "13582336/13568290 [==============================] - 0s 0us/step\n"
     ]
    }
   ],
   "source": [
    "zip_path = tf.keras.utils.get_file(\n",
    "    origin='https://storage.googleapis.com/tensorflow/tf-keras-datasets/jena_climate_2009_2016.csv.zip',\n",
    "    fname='jena_climate_2009_2016.csv.zip',\n",
    "    extract=True\n",
    ")\n",
    "csv_path, _ = os.path.splitext(zip_path)"
   ]
  },
  {
   "cell_type": "code",
   "execution_count": 3,
   "id": "d9cfd726-fe36-4072-879e-759abf75986c",
   "metadata": {},
   "outputs": [
    {
     "data": {
      "text/html": [
       "<div>\n",
       "<style scoped>\n",
       "    .dataframe tbody tr th:only-of-type {\n",
       "        vertical-align: middle;\n",
       "    }\n",
       "\n",
       "    .dataframe tbody tr th {\n",
       "        vertical-align: top;\n",
       "    }\n",
       "\n",
       "    .dataframe thead th {\n",
       "        text-align: right;\n",
       "    }\n",
       "</style>\n",
       "<table border=\"1\" class=\"dataframe\">\n",
       "  <thead>\n",
       "    <tr style=\"text-align: right;\">\n",
       "      <th></th>\n",
       "      <th>Date Time</th>\n",
       "      <th>p (mbar)</th>\n",
       "      <th>T (degC)</th>\n",
       "      <th>Tpot (K)</th>\n",
       "      <th>Tdew (degC)</th>\n",
       "      <th>rh (%)</th>\n",
       "      <th>VPmax (mbar)</th>\n",
       "      <th>VPact (mbar)</th>\n",
       "      <th>VPdef (mbar)</th>\n",
       "      <th>sh (g/kg)</th>\n",
       "      <th>H2OC (mmol/mol)</th>\n",
       "      <th>rho (g/m**3)</th>\n",
       "      <th>wv (m/s)</th>\n",
       "      <th>max. wv (m/s)</th>\n",
       "      <th>wd (deg)</th>\n",
       "    </tr>\n",
       "  </thead>\n",
       "  <tbody>\n",
       "    <tr>\n",
       "      <th>0</th>\n",
       "      <td>01.01.2009 00:10:00</td>\n",
       "      <td>996.52</td>\n",
       "      <td>-8.02</td>\n",
       "      <td>265.40</td>\n",
       "      <td>-8.90</td>\n",
       "      <td>93.3</td>\n",
       "      <td>3.33</td>\n",
       "      <td>3.11</td>\n",
       "      <td>0.22</td>\n",
       "      <td>1.94</td>\n",
       "      <td>3.12</td>\n",
       "      <td>1307.75</td>\n",
       "      <td>1.03</td>\n",
       "      <td>1.75</td>\n",
       "      <td>152.3</td>\n",
       "    </tr>\n",
       "    <tr>\n",
       "      <th>1</th>\n",
       "      <td>01.01.2009 00:20:00</td>\n",
       "      <td>996.57</td>\n",
       "      <td>-8.41</td>\n",
       "      <td>265.01</td>\n",
       "      <td>-9.28</td>\n",
       "      <td>93.4</td>\n",
       "      <td>3.23</td>\n",
       "      <td>3.02</td>\n",
       "      <td>0.21</td>\n",
       "      <td>1.89</td>\n",
       "      <td>3.03</td>\n",
       "      <td>1309.80</td>\n",
       "      <td>0.72</td>\n",
       "      <td>1.50</td>\n",
       "      <td>136.1</td>\n",
       "    </tr>\n",
       "    <tr>\n",
       "      <th>2</th>\n",
       "      <td>01.01.2009 00:30:00</td>\n",
       "      <td>996.53</td>\n",
       "      <td>-8.51</td>\n",
       "      <td>264.91</td>\n",
       "      <td>-9.31</td>\n",
       "      <td>93.9</td>\n",
       "      <td>3.21</td>\n",
       "      <td>3.01</td>\n",
       "      <td>0.20</td>\n",
       "      <td>1.88</td>\n",
       "      <td>3.02</td>\n",
       "      <td>1310.24</td>\n",
       "      <td>0.19</td>\n",
       "      <td>0.63</td>\n",
       "      <td>171.6</td>\n",
       "    </tr>\n",
       "    <tr>\n",
       "      <th>3</th>\n",
       "      <td>01.01.2009 00:40:00</td>\n",
       "      <td>996.51</td>\n",
       "      <td>-8.31</td>\n",
       "      <td>265.12</td>\n",
       "      <td>-9.07</td>\n",
       "      <td>94.2</td>\n",
       "      <td>3.26</td>\n",
       "      <td>3.07</td>\n",
       "      <td>0.19</td>\n",
       "      <td>1.92</td>\n",
       "      <td>3.08</td>\n",
       "      <td>1309.19</td>\n",
       "      <td>0.34</td>\n",
       "      <td>0.50</td>\n",
       "      <td>198.0</td>\n",
       "    </tr>\n",
       "    <tr>\n",
       "      <th>4</th>\n",
       "      <td>01.01.2009 00:50:00</td>\n",
       "      <td>996.51</td>\n",
       "      <td>-8.27</td>\n",
       "      <td>265.15</td>\n",
       "      <td>-9.04</td>\n",
       "      <td>94.1</td>\n",
       "      <td>3.27</td>\n",
       "      <td>3.08</td>\n",
       "      <td>0.19</td>\n",
       "      <td>1.92</td>\n",
       "      <td>3.09</td>\n",
       "      <td>1309.00</td>\n",
       "      <td>0.32</td>\n",
       "      <td>0.63</td>\n",
       "      <td>214.3</td>\n",
       "    </tr>\n",
       "  </tbody>\n",
       "</table>\n",
       "</div>"
      ],
      "text/plain": [
       "             Date Time  p (mbar)  T (degC)  Tpot (K)  Tdew (degC)  rh (%)  \\\n",
       "0  01.01.2009 00:10:00    996.52     -8.02    265.40        -8.90    93.3   \n",
       "1  01.01.2009 00:20:00    996.57     -8.41    265.01        -9.28    93.4   \n",
       "2  01.01.2009 00:30:00    996.53     -8.51    264.91        -9.31    93.9   \n",
       "3  01.01.2009 00:40:00    996.51     -8.31    265.12        -9.07    94.2   \n",
       "4  01.01.2009 00:50:00    996.51     -8.27    265.15        -9.04    94.1   \n",
       "\n",
       "   VPmax (mbar)  VPact (mbar)  VPdef (mbar)  sh (g/kg)  H2OC (mmol/mol)  \\\n",
       "0          3.33          3.11          0.22       1.94             3.12   \n",
       "1          3.23          3.02          0.21       1.89             3.03   \n",
       "2          3.21          3.01          0.20       1.88             3.02   \n",
       "3          3.26          3.07          0.19       1.92             3.08   \n",
       "4          3.27          3.08          0.19       1.92             3.09   \n",
       "\n",
       "   rho (g/m**3)  wv (m/s)  max. wv (m/s)  wd (deg)  \n",
       "0       1307.75      1.03           1.75     152.3  \n",
       "1       1309.80      0.72           1.50     136.1  \n",
       "2       1310.24      0.19           0.63     171.6  \n",
       "3       1309.19      0.34           0.50     198.0  \n",
       "4       1309.00      0.32           0.63     214.3  "
      ]
     },
     "execution_count": 3,
     "metadata": {},
     "output_type": "execute_result"
    }
   ],
   "source": [
    "df = pd.read_csv(csv_path)\n",
    "df.head()"
   ]
  },
  {
   "cell_type": "code",
   "execution_count": 4,
   "id": "47535c3e-9413-4221-9034-b7940e324b2b",
   "metadata": {},
   "outputs": [
    {
     "data": {
      "text/plain": [
       "(420551, 15)"
      ]
     },
     "execution_count": 4,
     "metadata": {},
     "output_type": "execute_result"
    }
   ],
   "source": [
    "df.shape"
   ]
  },
  {
   "cell_type": "code",
   "execution_count": 5,
   "id": "c0cc5a0e-830a-4080-9654-fcbeafa3515b",
   "metadata": {},
   "outputs": [
    {
     "data": {
      "text/html": [
       "<div>\n",
       "<style scoped>\n",
       "    .dataframe tbody tr th:only-of-type {\n",
       "        vertical-align: middle;\n",
       "    }\n",
       "\n",
       "    .dataframe tbody tr th {\n",
       "        vertical-align: top;\n",
       "    }\n",
       "\n",
       "    .dataframe thead th {\n",
       "        text-align: right;\n",
       "    }\n",
       "</style>\n",
       "<table border=\"1\" class=\"dataframe\">\n",
       "  <thead>\n",
       "    <tr style=\"text-align: right;\">\n",
       "      <th></th>\n",
       "      <th>Date Time</th>\n",
       "      <th>p (mbar)</th>\n",
       "      <th>T (degC)</th>\n",
       "      <th>Tpot (K)</th>\n",
       "      <th>Tdew (degC)</th>\n",
       "      <th>rh (%)</th>\n",
       "      <th>VPmax (mbar)</th>\n",
       "      <th>VPact (mbar)</th>\n",
       "      <th>VPdef (mbar)</th>\n",
       "      <th>sh (g/kg)</th>\n",
       "      <th>H2OC (mmol/mol)</th>\n",
       "      <th>rho (g/m**3)</th>\n",
       "      <th>wv (m/s)</th>\n",
       "      <th>max. wv (m/s)</th>\n",
       "      <th>wd (deg)</th>\n",
       "    </tr>\n",
       "  </thead>\n",
       "  <tbody>\n",
       "    <tr>\n",
       "      <th>420546</th>\n",
       "      <td>31.12.2016 23:20:00</td>\n",
       "      <td>1000.07</td>\n",
       "      <td>-4.05</td>\n",
       "      <td>269.10</td>\n",
       "      <td>-8.13</td>\n",
       "      <td>73.10</td>\n",
       "      <td>4.52</td>\n",
       "      <td>3.30</td>\n",
       "      <td>1.22</td>\n",
       "      <td>2.06</td>\n",
       "      <td>3.30</td>\n",
       "      <td>1292.98</td>\n",
       "      <td>0.67</td>\n",
       "      <td>1.52</td>\n",
       "      <td>240.0</td>\n",
       "    </tr>\n",
       "    <tr>\n",
       "      <th>420547</th>\n",
       "      <td>31.12.2016 23:30:00</td>\n",
       "      <td>999.93</td>\n",
       "      <td>-3.35</td>\n",
       "      <td>269.81</td>\n",
       "      <td>-8.06</td>\n",
       "      <td>69.71</td>\n",
       "      <td>4.77</td>\n",
       "      <td>3.32</td>\n",
       "      <td>1.44</td>\n",
       "      <td>2.07</td>\n",
       "      <td>3.32</td>\n",
       "      <td>1289.44</td>\n",
       "      <td>1.14</td>\n",
       "      <td>1.92</td>\n",
       "      <td>234.3</td>\n",
       "    </tr>\n",
       "    <tr>\n",
       "      <th>420548</th>\n",
       "      <td>31.12.2016 23:40:00</td>\n",
       "      <td>999.82</td>\n",
       "      <td>-3.16</td>\n",
       "      <td>270.01</td>\n",
       "      <td>-8.21</td>\n",
       "      <td>67.91</td>\n",
       "      <td>4.84</td>\n",
       "      <td>3.28</td>\n",
       "      <td>1.55</td>\n",
       "      <td>2.05</td>\n",
       "      <td>3.28</td>\n",
       "      <td>1288.39</td>\n",
       "      <td>1.08</td>\n",
       "      <td>2.00</td>\n",
       "      <td>215.2</td>\n",
       "    </tr>\n",
       "    <tr>\n",
       "      <th>420549</th>\n",
       "      <td>31.12.2016 23:50:00</td>\n",
       "      <td>999.81</td>\n",
       "      <td>-4.23</td>\n",
       "      <td>268.94</td>\n",
       "      <td>-8.53</td>\n",
       "      <td>71.80</td>\n",
       "      <td>4.46</td>\n",
       "      <td>3.20</td>\n",
       "      <td>1.26</td>\n",
       "      <td>1.99</td>\n",
       "      <td>3.20</td>\n",
       "      <td>1293.56</td>\n",
       "      <td>1.49</td>\n",
       "      <td>2.16</td>\n",
       "      <td>225.8</td>\n",
       "    </tr>\n",
       "    <tr>\n",
       "      <th>420550</th>\n",
       "      <td>01.01.2017 00:00:00</td>\n",
       "      <td>999.82</td>\n",
       "      <td>-4.82</td>\n",
       "      <td>268.36</td>\n",
       "      <td>-8.42</td>\n",
       "      <td>75.70</td>\n",
       "      <td>4.27</td>\n",
       "      <td>3.23</td>\n",
       "      <td>1.04</td>\n",
       "      <td>2.01</td>\n",
       "      <td>3.23</td>\n",
       "      <td>1296.38</td>\n",
       "      <td>1.23</td>\n",
       "      <td>1.96</td>\n",
       "      <td>184.9</td>\n",
       "    </tr>\n",
       "  </tbody>\n",
       "</table>\n",
       "</div>"
      ],
      "text/plain": [
       "                  Date Time  p (mbar)  T (degC)  Tpot (K)  Tdew (degC)  \\\n",
       "420546  31.12.2016 23:20:00   1000.07     -4.05    269.10        -8.13   \n",
       "420547  31.12.2016 23:30:00    999.93     -3.35    269.81        -8.06   \n",
       "420548  31.12.2016 23:40:00    999.82     -3.16    270.01        -8.21   \n",
       "420549  31.12.2016 23:50:00    999.81     -4.23    268.94        -8.53   \n",
       "420550  01.01.2017 00:00:00    999.82     -4.82    268.36        -8.42   \n",
       "\n",
       "        rh (%)  VPmax (mbar)  VPact (mbar)  VPdef (mbar)  sh (g/kg)  \\\n",
       "420546   73.10          4.52          3.30          1.22       2.06   \n",
       "420547   69.71          4.77          3.32          1.44       2.07   \n",
       "420548   67.91          4.84          3.28          1.55       2.05   \n",
       "420549   71.80          4.46          3.20          1.26       1.99   \n",
       "420550   75.70          4.27          3.23          1.04       2.01   \n",
       "\n",
       "        H2OC (mmol/mol)  rho (g/m**3)  wv (m/s)  max. wv (m/s)  wd (deg)  \n",
       "420546             3.30       1292.98      0.67           1.52     240.0  \n",
       "420547             3.32       1289.44      1.14           1.92     234.3  \n",
       "420548             3.28       1288.39      1.08           2.00     215.2  \n",
       "420549             3.20       1293.56      1.49           2.16     225.8  \n",
       "420550             3.23       1296.38      1.23           1.96     184.9  "
      ]
     },
     "execution_count": 5,
     "metadata": {},
     "output_type": "execute_result"
    }
   ],
   "source": [
    "df.tail()"
   ]
  },
  {
   "cell_type": "code",
   "execution_count": 6,
   "id": "32748ad6-7078-46d2-a0ea-6cd0ab3e5722",
   "metadata": {},
   "outputs": [
    {
     "data": {
      "text/html": [
       "<div>\n",
       "<style scoped>\n",
       "    .dataframe tbody tr th:only-of-type {\n",
       "        vertical-align: middle;\n",
       "    }\n",
       "\n",
       "    .dataframe tbody tr th {\n",
       "        vertical-align: top;\n",
       "    }\n",
       "\n",
       "    .dataframe thead th {\n",
       "        text-align: right;\n",
       "    }\n",
       "</style>\n",
       "<table border=\"1\" class=\"dataframe\">\n",
       "  <thead>\n",
       "    <tr style=\"text-align: right;\">\n",
       "      <th></th>\n",
       "      <th>Date Time</th>\n",
       "      <th>p (mbar)</th>\n",
       "      <th>T (degC)</th>\n",
       "      <th>Tpot (K)</th>\n",
       "      <th>Tdew (degC)</th>\n",
       "      <th>rh (%)</th>\n",
       "      <th>VPmax (mbar)</th>\n",
       "      <th>VPact (mbar)</th>\n",
       "      <th>VPdef (mbar)</th>\n",
       "      <th>sh (g/kg)</th>\n",
       "      <th>H2OC (mmol/mol)</th>\n",
       "      <th>rho (g/m**3)</th>\n",
       "      <th>wv (m/s)</th>\n",
       "      <th>max. wv (m/s)</th>\n",
       "      <th>wd (deg)</th>\n",
       "    </tr>\n",
       "  </thead>\n",
       "  <tbody>\n",
       "    <tr>\n",
       "      <th>5</th>\n",
       "      <td>01.01.2009 01:00:00</td>\n",
       "      <td>996.50</td>\n",
       "      <td>-8.05</td>\n",
       "      <td>265.38</td>\n",
       "      <td>-8.78</td>\n",
       "      <td>94.4</td>\n",
       "      <td>3.33</td>\n",
       "      <td>3.14</td>\n",
       "      <td>0.19</td>\n",
       "      <td>1.96</td>\n",
       "      <td>3.15</td>\n",
       "      <td>1307.86</td>\n",
       "      <td>0.21</td>\n",
       "      <td>0.63</td>\n",
       "      <td>192.7</td>\n",
       "    </tr>\n",
       "    <tr>\n",
       "      <th>11</th>\n",
       "      <td>01.01.2009 02:00:00</td>\n",
       "      <td>996.62</td>\n",
       "      <td>-8.88</td>\n",
       "      <td>264.54</td>\n",
       "      <td>-9.77</td>\n",
       "      <td>93.2</td>\n",
       "      <td>3.12</td>\n",
       "      <td>2.90</td>\n",
       "      <td>0.21</td>\n",
       "      <td>1.81</td>\n",
       "      <td>2.91</td>\n",
       "      <td>1312.25</td>\n",
       "      <td>0.25</td>\n",
       "      <td>0.63</td>\n",
       "      <td>190.3</td>\n",
       "    </tr>\n",
       "    <tr>\n",
       "      <th>17</th>\n",
       "      <td>01.01.2009 03:00:00</td>\n",
       "      <td>996.84</td>\n",
       "      <td>-8.81</td>\n",
       "      <td>264.59</td>\n",
       "      <td>-9.66</td>\n",
       "      <td>93.5</td>\n",
       "      <td>3.13</td>\n",
       "      <td>2.93</td>\n",
       "      <td>0.20</td>\n",
       "      <td>1.83</td>\n",
       "      <td>2.94</td>\n",
       "      <td>1312.18</td>\n",
       "      <td>0.18</td>\n",
       "      <td>0.63</td>\n",
       "      <td>167.2</td>\n",
       "    </tr>\n",
       "    <tr>\n",
       "      <th>23</th>\n",
       "      <td>01.01.2009 04:00:00</td>\n",
       "      <td>996.99</td>\n",
       "      <td>-9.05</td>\n",
       "      <td>264.34</td>\n",
       "      <td>-10.02</td>\n",
       "      <td>92.6</td>\n",
       "      <td>3.07</td>\n",
       "      <td>2.85</td>\n",
       "      <td>0.23</td>\n",
       "      <td>1.78</td>\n",
       "      <td>2.85</td>\n",
       "      <td>1313.61</td>\n",
       "      <td>0.10</td>\n",
       "      <td>0.38</td>\n",
       "      <td>240.0</td>\n",
       "    </tr>\n",
       "    <tr>\n",
       "      <th>29</th>\n",
       "      <td>01.01.2009 05:00:00</td>\n",
       "      <td>997.46</td>\n",
       "      <td>-9.63</td>\n",
       "      <td>263.72</td>\n",
       "      <td>-10.65</td>\n",
       "      <td>92.2</td>\n",
       "      <td>2.94</td>\n",
       "      <td>2.71</td>\n",
       "      <td>0.23</td>\n",
       "      <td>1.69</td>\n",
       "      <td>2.71</td>\n",
       "      <td>1317.19</td>\n",
       "      <td>0.40</td>\n",
       "      <td>0.88</td>\n",
       "      <td>157.0</td>\n",
       "    </tr>\n",
       "  </tbody>\n",
       "</table>\n",
       "</div>"
      ],
      "text/plain": [
       "              Date Time  p (mbar)  T (degC)  Tpot (K)  Tdew (degC)  rh (%)  \\\n",
       "5   01.01.2009 01:00:00    996.50     -8.05    265.38        -8.78    94.4   \n",
       "11  01.01.2009 02:00:00    996.62     -8.88    264.54        -9.77    93.2   \n",
       "17  01.01.2009 03:00:00    996.84     -8.81    264.59        -9.66    93.5   \n",
       "23  01.01.2009 04:00:00    996.99     -9.05    264.34       -10.02    92.6   \n",
       "29  01.01.2009 05:00:00    997.46     -9.63    263.72       -10.65    92.2   \n",
       "\n",
       "    VPmax (mbar)  VPact (mbar)  VPdef (mbar)  sh (g/kg)  H2OC (mmol/mol)  \\\n",
       "5           3.33          3.14          0.19       1.96             3.15   \n",
       "11          3.12          2.90          0.21       1.81             2.91   \n",
       "17          3.13          2.93          0.20       1.83             2.94   \n",
       "23          3.07          2.85          0.23       1.78             2.85   \n",
       "29          2.94          2.71          0.23       1.69             2.71   \n",
       "\n",
       "    rho (g/m**3)  wv (m/s)  max. wv (m/s)  wd (deg)  \n",
       "5        1307.86      0.21           0.63     192.7  \n",
       "11       1312.25      0.25           0.63     190.3  \n",
       "17       1312.18      0.18           0.63     167.2  \n",
       "23       1313.61      0.10           0.38     240.0  \n",
       "29       1317.19      0.40           0.88     157.0  "
      ]
     },
     "execution_count": 6,
     "metadata": {},
     "output_type": "execute_result"
    }
   ],
   "source": [
    "# only use a portion of the data\n",
    "# take every hour\n",
    "df = df[5::6]\n",
    "df.head()"
   ]
  },
  {
   "cell_type": "code",
   "execution_count": 7,
   "id": "edb5b46a-2426-4394-af2d-b054c8a81e9a",
   "metadata": {},
   "outputs": [
    {
     "data": {
      "text/plain": [
       "(70091, 15)"
      ]
     },
     "execution_count": 7,
     "metadata": {},
     "output_type": "execute_result"
    }
   ],
   "source": [
    "df.shape"
   ]
  },
  {
   "cell_type": "code",
   "execution_count": 8,
   "id": "4b1c0704-e225-42ec-a97c-9ffab019253e",
   "metadata": {},
   "outputs": [],
   "source": [
    "df.index = pd.to_datetime(df['Date Time'], format='%d.%m.%Y %H:%M:%S')"
   ]
  },
  {
   "cell_type": "code",
   "execution_count": 9,
   "id": "4d2bfa78-6136-4d4b-b0d8-d393b532aedf",
   "metadata": {},
   "outputs": [
    {
     "data": {
      "text/html": [
       "<div>\n",
       "<style scoped>\n",
       "    .dataframe tbody tr th:only-of-type {\n",
       "        vertical-align: middle;\n",
       "    }\n",
       "\n",
       "    .dataframe tbody tr th {\n",
       "        vertical-align: top;\n",
       "    }\n",
       "\n",
       "    .dataframe thead th {\n",
       "        text-align: right;\n",
       "    }\n",
       "</style>\n",
       "<table border=\"1\" class=\"dataframe\">\n",
       "  <thead>\n",
       "    <tr style=\"text-align: right;\">\n",
       "      <th></th>\n",
       "      <th>Date Time</th>\n",
       "      <th>p (mbar)</th>\n",
       "      <th>T (degC)</th>\n",
       "      <th>Tpot (K)</th>\n",
       "      <th>Tdew (degC)</th>\n",
       "      <th>rh (%)</th>\n",
       "      <th>VPmax (mbar)</th>\n",
       "      <th>VPact (mbar)</th>\n",
       "      <th>VPdef (mbar)</th>\n",
       "      <th>sh (g/kg)</th>\n",
       "      <th>H2OC (mmol/mol)</th>\n",
       "      <th>rho (g/m**3)</th>\n",
       "      <th>wv (m/s)</th>\n",
       "      <th>max. wv (m/s)</th>\n",
       "      <th>wd (deg)</th>\n",
       "    </tr>\n",
       "    <tr>\n",
       "      <th>Date Time</th>\n",
       "      <th></th>\n",
       "      <th></th>\n",
       "      <th></th>\n",
       "      <th></th>\n",
       "      <th></th>\n",
       "      <th></th>\n",
       "      <th></th>\n",
       "      <th></th>\n",
       "      <th></th>\n",
       "      <th></th>\n",
       "      <th></th>\n",
       "      <th></th>\n",
       "      <th></th>\n",
       "      <th></th>\n",
       "      <th></th>\n",
       "    </tr>\n",
       "  </thead>\n",
       "  <tbody>\n",
       "    <tr>\n",
       "      <th>2009-01-01 01:00:00</th>\n",
       "      <td>01.01.2009 01:00:00</td>\n",
       "      <td>996.50</td>\n",
       "      <td>-8.05</td>\n",
       "      <td>265.38</td>\n",
       "      <td>-8.78</td>\n",
       "      <td>94.4</td>\n",
       "      <td>3.33</td>\n",
       "      <td>3.14</td>\n",
       "      <td>0.19</td>\n",
       "      <td>1.96</td>\n",
       "      <td>3.15</td>\n",
       "      <td>1307.86</td>\n",
       "      <td>0.21</td>\n",
       "      <td>0.63</td>\n",
       "      <td>192.7</td>\n",
       "    </tr>\n",
       "    <tr>\n",
       "      <th>2009-01-01 02:00:00</th>\n",
       "      <td>01.01.2009 02:00:00</td>\n",
       "      <td>996.62</td>\n",
       "      <td>-8.88</td>\n",
       "      <td>264.54</td>\n",
       "      <td>-9.77</td>\n",
       "      <td>93.2</td>\n",
       "      <td>3.12</td>\n",
       "      <td>2.90</td>\n",
       "      <td>0.21</td>\n",
       "      <td>1.81</td>\n",
       "      <td>2.91</td>\n",
       "      <td>1312.25</td>\n",
       "      <td>0.25</td>\n",
       "      <td>0.63</td>\n",
       "      <td>190.3</td>\n",
       "    </tr>\n",
       "    <tr>\n",
       "      <th>2009-01-01 03:00:00</th>\n",
       "      <td>01.01.2009 03:00:00</td>\n",
       "      <td>996.84</td>\n",
       "      <td>-8.81</td>\n",
       "      <td>264.59</td>\n",
       "      <td>-9.66</td>\n",
       "      <td>93.5</td>\n",
       "      <td>3.13</td>\n",
       "      <td>2.93</td>\n",
       "      <td>0.20</td>\n",
       "      <td>1.83</td>\n",
       "      <td>2.94</td>\n",
       "      <td>1312.18</td>\n",
       "      <td>0.18</td>\n",
       "      <td>0.63</td>\n",
       "      <td>167.2</td>\n",
       "    </tr>\n",
       "    <tr>\n",
       "      <th>2009-01-01 04:00:00</th>\n",
       "      <td>01.01.2009 04:00:00</td>\n",
       "      <td>996.99</td>\n",
       "      <td>-9.05</td>\n",
       "      <td>264.34</td>\n",
       "      <td>-10.02</td>\n",
       "      <td>92.6</td>\n",
       "      <td>3.07</td>\n",
       "      <td>2.85</td>\n",
       "      <td>0.23</td>\n",
       "      <td>1.78</td>\n",
       "      <td>2.85</td>\n",
       "      <td>1313.61</td>\n",
       "      <td>0.10</td>\n",
       "      <td>0.38</td>\n",
       "      <td>240.0</td>\n",
       "    </tr>\n",
       "    <tr>\n",
       "      <th>2009-01-01 05:00:00</th>\n",
       "      <td>01.01.2009 05:00:00</td>\n",
       "      <td>997.46</td>\n",
       "      <td>-9.63</td>\n",
       "      <td>263.72</td>\n",
       "      <td>-10.65</td>\n",
       "      <td>92.2</td>\n",
       "      <td>2.94</td>\n",
       "      <td>2.71</td>\n",
       "      <td>0.23</td>\n",
       "      <td>1.69</td>\n",
       "      <td>2.71</td>\n",
       "      <td>1317.19</td>\n",
       "      <td>0.40</td>\n",
       "      <td>0.88</td>\n",
       "      <td>157.0</td>\n",
       "    </tr>\n",
       "  </tbody>\n",
       "</table>\n",
       "</div>"
      ],
      "text/plain": [
       "                               Date Time  p (mbar)  T (degC)  Tpot (K)  \\\n",
       "Date Time                                                                \n",
       "2009-01-01 01:00:00  01.01.2009 01:00:00    996.50     -8.05    265.38   \n",
       "2009-01-01 02:00:00  01.01.2009 02:00:00    996.62     -8.88    264.54   \n",
       "2009-01-01 03:00:00  01.01.2009 03:00:00    996.84     -8.81    264.59   \n",
       "2009-01-01 04:00:00  01.01.2009 04:00:00    996.99     -9.05    264.34   \n",
       "2009-01-01 05:00:00  01.01.2009 05:00:00    997.46     -9.63    263.72   \n",
       "\n",
       "                     Tdew (degC)  rh (%)  VPmax (mbar)  VPact (mbar)  \\\n",
       "Date Time                                                              \n",
       "2009-01-01 01:00:00        -8.78    94.4          3.33          3.14   \n",
       "2009-01-01 02:00:00        -9.77    93.2          3.12          2.90   \n",
       "2009-01-01 03:00:00        -9.66    93.5          3.13          2.93   \n",
       "2009-01-01 04:00:00       -10.02    92.6          3.07          2.85   \n",
       "2009-01-01 05:00:00       -10.65    92.2          2.94          2.71   \n",
       "\n",
       "                     VPdef (mbar)  sh (g/kg)  H2OC (mmol/mol)  rho (g/m**3)  \\\n",
       "Date Time                                                                     \n",
       "2009-01-01 01:00:00          0.19       1.96             3.15       1307.86   \n",
       "2009-01-01 02:00:00          0.21       1.81             2.91       1312.25   \n",
       "2009-01-01 03:00:00          0.20       1.83             2.94       1312.18   \n",
       "2009-01-01 04:00:00          0.23       1.78             2.85       1313.61   \n",
       "2009-01-01 05:00:00          0.23       1.69             2.71       1317.19   \n",
       "\n",
       "                     wv (m/s)  max. wv (m/s)  wd (deg)  \n",
       "Date Time                                               \n",
       "2009-01-01 01:00:00      0.21           0.63     192.7  \n",
       "2009-01-01 02:00:00      0.25           0.63     190.3  \n",
       "2009-01-01 03:00:00      0.18           0.63     167.2  \n",
       "2009-01-01 04:00:00      0.10           0.38     240.0  \n",
       "2009-01-01 05:00:00      0.40           0.88     157.0  "
      ]
     },
     "execution_count": 9,
     "metadata": {},
     "output_type": "execute_result"
    }
   ],
   "source": [
    "df.head()"
   ]
  },
  {
   "cell_type": "code",
   "execution_count": 11,
   "id": "8ba12965-fb54-4e37-bf14-102e3fc8efb8",
   "metadata": {},
   "outputs": [],
   "source": [
    "# for this example only use a single column"
   ]
  },
  {
   "cell_type": "code",
   "execution_count": 14,
   "id": "64fb63c2-4151-4b98-bf42-715120bde7cc",
   "metadata": {},
   "outputs": [
    {
     "data": {
      "text/plain": [
       "<AxesSubplot:xlabel='Date Time'>"
      ]
     },
     "execution_count": 14,
     "metadata": {},
     "output_type": "execute_result"
    },
    {
     "data": {
      "image/png": "[encoded data removed]",
      "text/plain": [
       "<Figure size 432x288 with 1 Axes>"
      ]
     },
     "metadata": {
      "needs_background": "light"
     },
     "output_type": "display_data"
    }
   ],
   "source": [
    "temp = df['T (degC)']\n",
    "temp.plot()"
   ]
  },
  {
   "cell_type": "code",
   "execution_count": 15,
   "id": "f63bd7e1-12af-4a7c-b2d5-2a7043f2a1a8",
   "metadata": {},
   "outputs": [],
   "source": [
    "def df_to_X_y(df, window_size=5):\n",
    "    # window_size is the number of samples to take\n",
    "    df_as_np = df.to_numpy()\n",
    "    X = []\n",
    "    y = []\n",
    "    for i in range(len(df_as_np)-window_size):\n",
    "        row = [[a] for a in df_as_np[i:i+window_size]]\n",
    "        X.append(row)\n",
    "        label = df_as_np[i+window_size]\n",
    "        y.append(label)\n",
    "    return np.array(X), np.array(y)"
   ]
  },
  {
   "cell_type": "code",
   "execution_count": 16,
   "id": "c906114c-924c-420f-9645-a95d97541fec",
   "metadata": {},
   "outputs": [],
   "source": [
    "WINDOW_SIZE=5\n",
    "X,y = df_to_X_y(temp, WINDOW_SIZE)"
   ]
  },
  {
   "cell_type": "code",
   "execution_count": 17,
   "id": "022c04b2-56cf-4eda-9081-5bc994ed1936",
   "metadata": {},
   "outputs": [
    {
     "data": {
      "text/plain": [
       "(70086, 5, 1)"
      ]
     },
     "execution_count": 17,
     "metadata": {},
     "output_type": "execute_result"
    }
   ],
   "source": [
    "X.shape"
   ]
  },
  {
   "cell_type": "code",
   "execution_count": 18,
   "id": "78bd6e58-70f0-44f4-87b3-c4f2ec833125",
   "metadata": {},
   "outputs": [
    {
     "data": {
      "text/plain": [
       "(70086,)"
      ]
     },
     "execution_count": 18,
     "metadata": {},
     "output_type": "execute_result"
    }
   ],
   "source": [
    "y.shape"
   ]
  },
  {
   "cell_type": "code",
   "execution_count": 19,
   "id": "5b6c2d70-6d6c-4296-a36a-0b22361c878b",
   "metadata": {},
   "outputs": [],
   "source": [
    "X_train, y_train = X[:60000], y[:60000]\n",
    "X_val, y_val = X[60000:65000], y[60000:65000]\n",
    "X_test, y_test = X[65000:], y[65000:]\n",
    "\n"
   ]
  },
  {
   "cell_type": "code",
   "execution_count": 20,
   "id": "2d93ed47-ab37-4ba4-be91-577dad217e5b",
   "metadata": {},
   "outputs": [
    {
     "data": {
      "text/plain": [
       "((60000, 5, 1), (5000, 5, 1), (5086, 5, 1))"
      ]
     },
     "execution_count": 20,
     "metadata": {},
     "output_type": "execute_result"
    }
   ],
   "source": [
    "X_train.shape, X_val.shape, X_test.shape"
   ]
  },
  {
   "cell_type": "code",
   "execution_count": 21,
   "id": "157a0f7b-43a1-40fa-a68e-2c27a236cec5",
   "metadata": {},
   "outputs": [
    {
     "data": {
      "text/plain": [
       "((60000,), (5000,), (5086,))"
      ]
     },
     "execution_count": 21,
     "metadata": {},
     "output_type": "execute_result"
    }
   ],
   "source": [
    "y_train.shape, y_val.shape, y_test.shape"
   ]
  },
  {
   "cell_type": "code",
   "execution_count": null,
   "id": "83b324f2-2283-4683-b8fc-f9a34fd595e5",
   "metadata": {},
   "outputs": [],
   "source": []
  },
  {
   "cell_type": "code",
   "execution_count": 23,
   "id": "a2ed698b-8ee0-4fec-8e64-06582d2f39cc",
   "metadata": {},
   "outputs": [],
   "source": [
    "from tensorflow.keras.models import Sequential\n",
    "from tensorflow.keras.layers import *\n",
    "from tensorflow.keras.callbacks import ModelCheckpoint\n",
    "from tensorflow.keras.losses import MeanSquaredError\n",
    "from tensorflow.keras.metrics import RootMeanSquaredError\n",
    "from tensorflow.keras.optimizers import Adam"
   ]
  },
  {
   "cell_type": "code",
   "execution_count": 24,
   "id": "5483b0eb-78f3-434a-87d4-af7f5f5fb1b8",
   "metadata": {},
   "outputs": [
    {
     "name": "stderr",
     "output_type": "stream",
     "text": [
      "2022-02-19 13:54:17.954028: W tensorflow/stream_executor/platform/default/dso_loader.cc:64] Could not load dynamic library 'libcuda.so.1'; dlerror: libcuda.so.1: cannot open shared object file: No such file or directory\n",
      "2022-02-19 13:54:17.954061: W tensorflow/stream_executor/cuda/cuda_driver.cc:269] failed call to cuInit: UNKNOWN ERROR (303)\n",
      "2022-02-19 13:54:17.954085: I tensorflow/stream_executor/cuda/cuda_diagnostics.cc:156] kernel driver does not appear to be running on this host (default): /proc/driver/nvidia/version does not exist\n",
      "2022-02-19 13:54:17.954340: I tensorflow/core/platform/cpu_feature_guard.cc:151] This TensorFlow binary is optimized with oneAPI Deep Neural Network Library (oneDNN) to use the following CPU instructions in performance-critical operations:  AVX2 AVX512F FMA\n",
      "To enable them in other operations, rebuild TensorFlow with the appropriate compiler flags.\n"
     ]
    }
   ],
   "source": [
    "model1 = Sequential()\n",
    "model1.add(InputLayer(input_shape=(5,1)))\n",
    "model1.add(LSTM(64))\n",
    "model1.add(Dense(8, 'relu'))\n",
    "model1.add(Dense(1, 'linear'))\n"
   ]
  },
  {
   "cell_type": "code",
   "execution_count": 25,
   "id": "51706499-e51c-4ccc-8d8b-e5e27230dad6",
   "metadata": {},
   "outputs": [
    {
     "name": "stdout",
     "output_type": "stream",
     "text": [
      "Model: \"sequential\"\n",
      "_________________________________________________________________\n",
      " Layer (type)                Output Shape              Param #   \n",
      "=================================================================\n",
      " lstm (LSTM)                 (None, 64)                16896     \n",
      "                                                                 \n",
      " dense (Dense)               (None, 8)                 520       \n",
      "                                                                 \n",
      " dense_1 (Dense)             (None, 1)                 9         \n",
      "                                                                 \n",
      "=================================================================\n",
      "Total params: 17,425\n",
      "Trainable params: 17,425\n",
      "Non-trainable params: 0\n",
      "_________________________________________________________________\n"
     ]
    }
   ],
   "source": [
    "model1.summary()"
   ]
  },
  {
   "cell_type": "code",
   "execution_count": 26,
   "id": "280fd571-348c-4771-a40e-b2ea5a939a77",
   "metadata": {},
   "outputs": [],
   "source": [
    "cp = ModelCheckpoint('model1/', save_best_only=True)\n"
   ]
  },
  {
   "cell_type": "code",
   "execution_count": 27,
   "id": "474cdc63-85c4-47ed-b039-36bce7bc427d",
   "metadata": {},
   "outputs": [],
   "source": [
    "model1.compile(loss=MeanSquaredError(), optimizer=Adam(learning_rate=0.0001), metrics=[RootMeanSquaredError()])"
   ]
  },
  {
   "cell_type": "code",
   "execution_count": 29,
   "id": "1c024a53-b9d6-45b4-a1e9-cc5eaff26361",
   "metadata": {},
   "outputs": [
    {
     "name": "stdout",
     "output_type": "stream",
     "text": [
      "Epoch 1/10\n",
      "1861/1875 [============================>.] - ETA: 0s - loss: 35.8288 - root_mean_squared_error: 5.9857"
     ]
    },
    {
     "name": "stderr",
     "output_type": "stream",
     "text": [
      "2022-02-19 13:58:11.572428: W tensorflow/python/util/util.cc:368] Sets are not currently considered sequences, but this may change in the future, so consider avoiding using them.\n",
      "WARNING:absl:Found untraced functions such as lstm_cell_layer_call_fn, lstm_cell_layer_call_and_return_conditional_losses while saving (showing 2 of 2). These functions will not be directly callable after loading.\n"
     ]
    },
    {
     "name": "stdout",
     "output_type": "stream",
     "text": [
      "INFO:tensorflow:Assets written to: model1/assets\n"
     ]
    },
    {
     "name": "stderr",
     "output_type": "stream",
     "text": [
      "INFO:tensorflow:Assets written to: model1/assets\n",
      "WARNING:absl:<keras.layers.recurrent.LSTMCell object at 0x7f56fa6cc760> has the same name 'LSTMCell' as a built-in Keras object. Consider renaming <class 'keras.layers.recurrent.LSTMCell'> to avoid naming conflicts when loading with `tf.keras.models.load_model`. If renaming is not possible, pass the object in the `custom_objects` parameter of the load function.\n"
     ]
    },
    {
     "name": "stdout",
     "output_type": "stream",
     "text": [
      "1875/1875 [==============================] - 12s 6ms/step - loss: 35.5874 - root_mean_squared_error: 5.9655 - val_loss: 1.2233 - val_root_mean_squared_error: 1.1060\n",
      "Epoch 2/10\n",
      "1873/1875 [============================>.] - ETA: 0s - loss: 1.8887 - root_mean_squared_error: 1.3743"
     ]
    },
    {
     "name": "stderr",
     "output_type": "stream",
     "text": [
      "WARNING:absl:Found untraced functions such as lstm_cell_layer_call_fn, lstm_cell_layer_call_and_return_conditional_losses while saving (showing 2 of 2). These functions will not be directly callable after loading.\n"
     ]
    },
    {
     "name": "stdout",
     "output_type": "stream",
     "text": [
      "INFO:tensorflow:Assets written to: model1/assets\n"
     ]
    },
    {
     "name": "stderr",
     "output_type": "stream",
     "text": [
      "INFO:tensorflow:Assets written to: model1/assets\n",
      "WARNING:absl:<keras.layers.recurrent.LSTMCell object at 0x7f56fa6cc760> has the same name 'LSTMCell' as a built-in Keras object. Consider renaming <class 'keras.layers.recurrent.LSTMCell'> to avoid naming conflicts when loading with `tf.keras.models.load_model`. If renaming is not possible, pass the object in the `custom_objects` parameter of the load function.\n"
     ]
    },
    {
     "name": "stdout",
     "output_type": "stream",
     "text": [
      "1875/1875 [==============================] - 10s 5ms/step - loss: 1.8881 - root_mean_squared_error: 1.3741 - val_loss: 0.6302 - val_root_mean_squared_error: 0.7939\n",
      "Epoch 3/10\n",
      "1869/1875 [============================>.] - ETA: 0s - loss: 0.9107 - root_mean_squared_error: 0.9543"
     ]
    },
    {
     "name": "stderr",
     "output_type": "stream",
     "text": [
      "WARNING:absl:Found untraced functions such as lstm_cell_layer_call_fn, lstm_cell_layer_call_and_return_conditional_losses while saving (showing 2 of 2). These functions will not be directly callable after loading.\n"
     ]
    },
    {
     "name": "stdout",
     "output_type": "stream",
     "text": [
      "INFO:tensorflow:Assets written to: model1/assets\n"
     ]
    },
    {
     "name": "stderr",
     "output_type": "stream",
     "text": [
      "INFO:tensorflow:Assets written to: model1/assets\n",
      "WARNING:absl:<keras.layers.recurrent.LSTMCell object at 0x7f56fa6cc760> has the same name 'LSTMCell' as a built-in Keras object. Consider renaming <class 'keras.layers.recurrent.LSTMCell'> to avoid naming conflicts when loading with `tf.keras.models.load_model`. If renaming is not possible, pass the object in the `custom_objects` parameter of the load function.\n"
     ]
    },
    {
     "name": "stdout",
     "output_type": "stream",
     "text": [
      "1875/1875 [==============================] - 10s 5ms/step - loss: 0.9111 - root_mean_squared_error: 0.9545 - val_loss: 0.5524 - val_root_mean_squared_error: 0.7432\n",
      "Epoch 4/10\n",
      "1873/1875 [============================>.] - ETA: 0s - loss: 0.7380 - root_mean_squared_error: 0.8591"
     ]
    },
    {
     "name": "stderr",
     "output_type": "stream",
     "text": [
      "WARNING:absl:Found untraced functions such as lstm_cell_layer_call_fn, lstm_cell_layer_call_and_return_conditional_losses while saving (showing 2 of 2). These functions will not be directly callable after loading.\n"
     ]
    },
    {
     "name": "stdout",
     "output_type": "stream",
     "text": [
      "INFO:tensorflow:Assets written to: model1/assets\n"
     ]
    },
    {
     "name": "stderr",
     "output_type": "stream",
     "text": [
      "INFO:tensorflow:Assets written to: model1/assets\n",
      "WARNING:absl:<keras.layers.recurrent.LSTMCell object at 0x7f56fa6cc760> has the same name 'LSTMCell' as a built-in Keras object. Consider renaming <class 'keras.layers.recurrent.LSTMCell'> to avoid naming conflicts when loading with `tf.keras.models.load_model`. If renaming is not possible, pass the object in the `custom_objects` parameter of the load function.\n"
     ]
    },
    {
     "name": "stdout",
     "output_type": "stream",
     "text": [
      "1875/1875 [==============================] - 10s 5ms/step - loss: 0.7381 - root_mean_squared_error: 0.8591 - val_loss: 0.5234 - val_root_mean_squared_error: 0.7234\n",
      "Epoch 5/10\n",
      "1869/1875 [============================>.] - ETA: 0s - loss: 0.6834 - root_mean_squared_error: 0.8267"
     ]
    },
    {
     "name": "stderr",
     "output_type": "stream",
     "text": [
      "WARNING:absl:Found untraced functions such as lstm_cell_layer_call_fn, lstm_cell_layer_call_and_return_conditional_losses while saving (showing 2 of 2). These functions will not be directly callable after loading.\n"
     ]
    },
    {
     "name": "stdout",
     "output_type": "stream",
     "text": [
      "INFO:tensorflow:Assets written to: model1/assets\n"
     ]
    },
    {
     "name": "stderr",
     "output_type": "stream",
     "text": [
      "INFO:tensorflow:Assets written to: model1/assets\n",
      "WARNING:absl:<keras.layers.recurrent.LSTMCell object at 0x7f56fa6cc760> has the same name 'LSTMCell' as a built-in Keras object. Consider renaming <class 'keras.layers.recurrent.LSTMCell'> to avoid naming conflicts when loading with `tf.keras.models.load_model`. If renaming is not possible, pass the object in the `custom_objects` parameter of the load function.\n"
     ]
    },
    {
     "name": "stdout",
     "output_type": "stream",
     "text": [
      "1875/1875 [==============================] - 11s 6ms/step - loss: 0.6828 - root_mean_squared_error: 0.8263 - val_loss: 0.5159 - val_root_mean_squared_error: 0.7183\n",
      "Epoch 6/10\n",
      "1867/1875 [============================>.] - ETA: 0s - loss: 0.6639 - root_mean_squared_error: 0.8148"
     ]
    },
    {
     "name": "stderr",
     "output_type": "stream",
     "text": [
      "WARNING:absl:Found untraced functions such as lstm_cell_layer_call_fn, lstm_cell_layer_call_and_return_conditional_losses while saving (showing 2 of 2). These functions will not be directly callable after loading.\n"
     ]
    },
    {
     "name": "stdout",
     "output_type": "stream",
     "text": [
      "INFO:tensorflow:Assets written to: model1/assets\n"
     ]
    },
    {
     "name": "stderr",
     "output_type": "stream",
     "text": [
      "INFO:tensorflow:Assets written to: model1/assets\n",
      "WARNING:absl:<keras.layers.recurrent.LSTMCell object at 0x7f56fa6cc760> has the same name 'LSTMCell' as a built-in Keras object. Consider renaming <class 'keras.layers.recurrent.LSTMCell'> to avoid naming conflicts when loading with `tf.keras.models.load_model`. If renaming is not possible, pass the object in the `custom_objects` parameter of the load function.\n"
     ]
    },
    {
     "name": "stdout",
     "output_type": "stream",
     "text": [
      "1875/1875 [==============================] - 10s 5ms/step - loss: 0.6639 - root_mean_squared_error: 0.8148 - val_loss: 0.5013 - val_root_mean_squared_error: 0.7081\n",
      "Epoch 7/10\n",
      "1864/1875 [============================>.] - ETA: 0s - loss: 0.6556 - root_mean_squared_error: 0.8097"
     ]
    },
    {
     "name": "stderr",
     "output_type": "stream",
     "text": [
      "WARNING:absl:Found untraced functions such as lstm_cell_layer_call_fn, lstm_cell_layer_call_and_return_conditional_losses while saving (showing 2 of 2). These functions will not be directly callable after loading.\n"
     ]
    },
    {
     "name": "stdout",
     "output_type": "stream",
     "text": [
      "INFO:tensorflow:Assets written to: model1/assets\n"
     ]
    },
    {
     "name": "stderr",
     "output_type": "stream",
     "text": [
      "INFO:tensorflow:Assets written to: model1/assets\n",
      "WARNING:absl:<keras.layers.recurrent.LSTMCell object at 0x7f56fa6cc760> has the same name 'LSTMCell' as a built-in Keras object. Consider renaming <class 'keras.layers.recurrent.LSTMCell'> to avoid naming conflicts when loading with `tf.keras.models.load_model`. If renaming is not possible, pass the object in the `custom_objects` parameter of the load function.\n"
     ]
    },
    {
     "name": "stdout",
     "output_type": "stream",
     "text": [
      "1875/1875 [==============================] - 10s 6ms/step - loss: 0.6564 - root_mean_squared_error: 0.8102 - val_loss: 0.4981 - val_root_mean_squared_error: 0.7058\n",
      "Epoch 8/10\n",
      "1875/1875 [==============================] - 7s 4ms/step - loss: 0.6506 - root_mean_squared_error: 0.8066 - val_loss: 0.4996 - val_root_mean_squared_error: 0.7068\n",
      "Epoch 9/10\n",
      "1863/1875 [============================>.] - ETA: 0s - loss: 0.6477 - root_mean_squared_error: 0.8048"
     ]
    },
    {
     "name": "stderr",
     "output_type": "stream",
     "text": [
      "WARNING:absl:Found untraced functions such as lstm_cell_layer_call_fn, lstm_cell_layer_call_and_return_conditional_losses while saving (showing 2 of 2). These functions will not be directly callable after loading.\n"
     ]
    },
    {
     "name": "stdout",
     "output_type": "stream",
     "text": [
      "INFO:tensorflow:Assets written to: model1/assets\n"
     ]
    },
    {
     "name": "stderr",
     "output_type": "stream",
     "text": [
      "INFO:tensorflow:Assets written to: model1/assets\n",
      "WARNING:absl:<keras.layers.recurrent.LSTMCell object at 0x7f56fa6cc760> has the same name 'LSTMCell' as a built-in Keras object. Consider renaming <class 'keras.layers.recurrent.LSTMCell'> to avoid naming conflicts when loading with `tf.keras.models.load_model`. If renaming is not possible, pass the object in the `custom_objects` parameter of the load function.\n"
     ]
    },
    {
     "name": "stdout",
     "output_type": "stream",
     "text": [
      "1875/1875 [==============================] - 10s 5ms/step - loss: 0.6477 - root_mean_squared_error: 0.8048 - val_loss: 0.4908 - val_root_mean_squared_error: 0.7005\n",
      "Epoch 10/10\n",
      "1875/1875 [==============================] - 7s 4ms/step - loss: 0.6461 - root_mean_squared_error: 0.8038 - val_loss: 0.5137 - val_root_mean_squared_error: 0.7167\n"
     ]
    },
    {
     "data": {
      "text/plain": [
       "<keras.callbacks.History at 0x7f56fa5afca0>"
      ]
     },
     "execution_count": 29,
     "metadata": {},
     "output_type": "execute_result"
    }
   ],
   "source": [
    "model1.fit(X_train, y_train, validation_data=(X_val, y_val), epochs=10, callbacks=[cp])"
   ]
  },
  {
   "cell_type": "code",
   "execution_count": null,
   "id": "53fadd1d-fe05-4071-8a6e-4df8885449d4",
   "metadata": {},
   "outputs": [],
   "source": []
  },
  {
   "cell_type": "code",
   "execution_count": 30,
   "id": "86c7e54f-93c6-41cc-a15f-bc2eb4da366a",
   "metadata": {},
   "outputs": [
    {
     "data": {
      "text/plain": [
       "<keras.callbacks.History at 0x7f56fa5afca0>"
      ]
     },
     "execution_count": 30,
     "metadata": {},
     "output_type": "execute_result"
    }
   ],
   "source": [
    "model1.history"
   ]
  },
  {
   "cell_type": "code",
   "execution_count": 34,
   "id": "7b159176-60df-4caa-9791-ec9580bc6453",
   "metadata": {},
   "outputs": [
    {
     "data": {
      "text/html": [
       "<div>\n",
       "<style scoped>\n",
       "    .dataframe tbody tr th:only-of-type {\n",
       "        vertical-align: middle;\n",
       "    }\n",
       "\n",
       "    .dataframe tbody tr th {\n",
       "        vertical-align: top;\n",
       "    }\n",
       "\n",
       "    .dataframe thead th {\n",
       "        text-align: right;\n",
       "    }\n",
       "</style>\n",
       "<table border=\"1\" class=\"dataframe\">\n",
       "  <thead>\n",
       "    <tr style=\"text-align: right;\">\n",
       "      <th></th>\n",
       "      <th>loss</th>\n",
       "      <th>root_mean_squared_error</th>\n",
       "      <th>val_loss</th>\n",
       "      <th>val_root_mean_squared_error</th>\n",
       "    </tr>\n",
       "  </thead>\n",
       "  <tbody>\n",
       "    <tr>\n",
       "      <th>0</th>\n",
       "      <td>35.587391</td>\n",
       "      <td>5.965517</td>\n",
       "      <td>1.223281</td>\n",
       "      <td>1.106020</td>\n",
       "    </tr>\n",
       "    <tr>\n",
       "      <th>1</th>\n",
       "      <td>1.888077</td>\n",
       "      <td>1.374073</td>\n",
       "      <td>0.630226</td>\n",
       "      <td>0.793868</td>\n",
       "    </tr>\n",
       "    <tr>\n",
       "      <th>2</th>\n",
       "      <td>0.911103</td>\n",
       "      <td>0.954517</td>\n",
       "      <td>0.552420</td>\n",
       "      <td>0.743249</td>\n",
       "    </tr>\n",
       "    <tr>\n",
       "      <th>3</th>\n",
       "      <td>0.738126</td>\n",
       "      <td>0.859143</td>\n",
       "      <td>0.523367</td>\n",
       "      <td>0.723441</td>\n",
       "    </tr>\n",
       "    <tr>\n",
       "      <th>4</th>\n",
       "      <td>0.682813</td>\n",
       "      <td>0.826325</td>\n",
       "      <td>0.515908</td>\n",
       "      <td>0.718267</td>\n",
       "    </tr>\n",
       "  </tbody>\n",
       "</table>\n",
       "</div>"
      ],
      "text/plain": [
       "        loss  root_mean_squared_error  val_loss  val_root_mean_squared_error\n",
       "0  35.587391                 5.965517  1.223281                     1.106020\n",
       "1   1.888077                 1.374073  0.630226                     0.793868\n",
       "2   0.911103                 0.954517  0.552420                     0.743249\n",
       "3   0.738126                 0.859143  0.523367                     0.723441\n",
       "4   0.682813                 0.826325  0.515908                     0.718267"
      ]
     },
     "execution_count": 34,
     "metadata": {},
     "output_type": "execute_result"
    }
   ],
   "source": [
    "losses = pd.DataFrame(model1.history.history)\n",
    "losses.head()\n"
   ]
  },
  {
   "cell_type": "code",
   "execution_count": 35,
   "id": "e036c418-b450-4f54-8c48-66a8069bf9b4",
   "metadata": {},
   "outputs": [
    {
     "data": {
      "text/plain": [
       "<AxesSubplot:>"
      ]
     },
     "execution_count": 35,
     "metadata": {},
     "output_type": "execute_result"
    },
    {
     "data": {
      "image/png": "[encoded data removed]",
      "text/plain": [
       "<Figure size 432x288 with 1 Axes>"
      ]
     },
     "metadata": {
      "needs_background": "light"
     },
     "output_type": "display_data"
    }
   ],
   "source": [
    "# losses[['accuracy','val_accuracy']].plot()\n",
    "losses[['loss','val_loss']].plot()"
   ]
  },
  {
   "cell_type": "code",
   "execution_count": 36,
   "id": "4d6bfdb3-23a1-40d2-af39-67c35d9b73f1",
   "metadata": {},
   "outputs": [],
   "source": [
    "# load best model\n",
    "from tensorflow.keras.models import load_model"
   ]
  },
  {
   "cell_type": "code",
   "execution_count": 37,
   "id": "8611463a-3edb-4b04-9686-b446fdf5e8d3",
   "metadata": {},
   "outputs": [],
   "source": [
    "model1 = load_model('model1/')"
   ]
  },
  {
   "cell_type": "code",
   "execution_count": 38,
   "id": "fef62014-f8f1-49df-ad26-dfb86a61cb08",
   "metadata": {},
   "outputs": [],
   "source": [
    "train_predictions = model1.predict(X_train).flatten()\n",
    "train_results = pd.DataFrame(data={'Train Predictions': train_predictions, 'Actuals': y_train}) "
   ]
  },
  {
   "cell_type": "code",
   "execution_count": 39,
   "id": "6ba29134-38ff-4d42-9e99-a6c456e10688",
   "metadata": {},
   "outputs": [
    {
     "data": {
      "text/html": [
       "<div>\n",
       "<style scoped>\n",
       "    .dataframe tbody tr th:only-of-type {\n",
       "        vertical-align: middle;\n",
       "    }\n",
       "\n",
       "    .dataframe tbody tr th {\n",
       "        vertical-align: top;\n",
       "    }\n",
       "\n",
       "    .dataframe thead th {\n",
       "        text-align: right;\n",
       "    }\n",
       "</style>\n",
       "<table border=\"1\" class=\"dataframe\">\n",
       "  <thead>\n",
       "    <tr style=\"text-align: right;\">\n",
       "      <th></th>\n",
       "      <th>Train Predictions</th>\n",
       "      <th>Actuals</th>\n",
       "    </tr>\n",
       "  </thead>\n",
       "  <tbody>\n",
       "    <tr>\n",
       "      <th>0</th>\n",
       "      <td>-9.884558</td>\n",
       "      <td>-9.67</td>\n",
       "    </tr>\n",
       "    <tr>\n",
       "      <th>1</th>\n",
       "      <td>-9.720004</td>\n",
       "      <td>-9.17</td>\n",
       "    </tr>\n",
       "    <tr>\n",
       "      <th>2</th>\n",
       "      <td>-8.839842</td>\n",
       "      <td>-8.10</td>\n",
       "    </tr>\n",
       "    <tr>\n",
       "      <th>3</th>\n",
       "      <td>-7.411562</td>\n",
       "      <td>-7.66</td>\n",
       "    </tr>\n",
       "    <tr>\n",
       "      <th>4</th>\n",
       "      <td>-7.280581</td>\n",
       "      <td>-7.04</td>\n",
       "    </tr>\n",
       "    <tr>\n",
       "      <th>...</th>\n",
       "      <td>...</td>\n",
       "      <td>...</td>\n",
       "    </tr>\n",
       "    <tr>\n",
       "      <th>59995</th>\n",
       "      <td>6.059855</td>\n",
       "      <td>6.07</td>\n",
       "    </tr>\n",
       "    <tr>\n",
       "      <th>59996</th>\n",
       "      <td>7.156456</td>\n",
       "      <td>9.88</td>\n",
       "    </tr>\n",
       "    <tr>\n",
       "      <th>59997</th>\n",
       "      <td>12.114364</td>\n",
       "      <td>13.53</td>\n",
       "    </tr>\n",
       "    <tr>\n",
       "      <th>59998</th>\n",
       "      <td>16.049517</td>\n",
       "      <td>15.43</td>\n",
       "    </tr>\n",
       "    <tr>\n",
       "      <th>59999</th>\n",
       "      <td>16.173342</td>\n",
       "      <td>15.54</td>\n",
       "    </tr>\n",
       "  </tbody>\n",
       "</table>\n",
       "<p>60000 rows × 2 columns</p>\n",
       "</div>"
      ],
      "text/plain": [
       "       Train Predictions  Actuals\n",
       "0              -9.884558    -9.67\n",
       "1              -9.720004    -9.17\n",
       "2              -8.839842    -8.10\n",
       "3              -7.411562    -7.66\n",
       "4              -7.280581    -7.04\n",
       "...                  ...      ...\n",
       "59995           6.059855     6.07\n",
       "59996           7.156456     9.88\n",
       "59997          12.114364    13.53\n",
       "59998          16.049517    15.43\n",
       "59999          16.173342    15.54\n",
       "\n",
       "[60000 rows x 2 columns]"
      ]
     },
     "execution_count": 39,
     "metadata": {},
     "output_type": "execute_result"
    }
   ],
   "source": [
    "train_results"
   ]
  },
  {
   "cell_type": "code",
   "execution_count": 40,
   "id": "9fc69978-ce50-43cf-93d2-a2361a0c9118",
   "metadata": {},
   "outputs": [],
   "source": [
    "# plotting"
   ]
  },
  {
   "cell_type": "code",
   "execution_count": 41,
   "id": "8baa3f67-c87c-4775-ac92-61e296e449fd",
   "metadata": {},
   "outputs": [],
   "source": [
    "import matplotlib.pyplot as plt"
   ]
  },
  {
   "cell_type": "code",
   "execution_count": 48,
   "id": "5a6e0840-a43c-414e-b062-fc152aa703e6",
   "metadata": {},
   "outputs": [
    {
     "data": {
      "text/plain": [
       "[<matplotlib.lines.Line2D at 0x7f56c6cb8a00>]"
      ]
     },
     "execution_count": 48,
     "metadata": {},
     "output_type": "execute_result"
    },
    {
     "data": {
      "image/png": "[encoded data removed]",
      "text/plain": [
       "<Figure size 432x288 with 1 Axes>"
      ]
     },
     "metadata": {
      "needs_background": "light"
     },
     "output_type": "display_data"
    }
   ],
   "source": [
    "plt.plot(train_results['Train Predictions'][-100:])\n",
    "plt.plot(train_results['Actuals'][-100:])"
   ]
  },
  {
   "cell_type": "code",
   "execution_count": null,
   "id": "d13339b7-56a3-4a78-a8ff-0d2cb9ad0edf",
   "metadata": {},
   "outputs": [],
   "source": []
  },
  {
   "cell_type": "code",
   "execution_count": 49,
   "id": "78f3c8d9-24e0-42b2-8f0a-d3813fa9fafb",
   "metadata": {},
   "outputs": [],
   "source": [
    "# Look at validation"
   ]
  },
  {
   "cell_type": "code",
   "execution_count": 50,
   "id": "6ff68fcf-ef77-4c1b-afb3-b35cfdae25a8",
   "metadata": {},
   "outputs": [],
   "source": [
    "val_predictions = model1.predict(X_val).flatten()\n",
    "val_results = pd.DataFrame(data={'Val Predictions': val_predictions, 'Actuals': y_val}) "
   ]
  },
  {
   "cell_type": "code",
   "execution_count": 51,
   "id": "bed731d1-4836-4b0b-a8c6-4ee455c664cf",
   "metadata": {},
   "outputs": [
    {
     "data": {
      "text/plain": [
       "[<matplotlib.lines.Line2D at 0x7f56c6c6d0d0>]"
      ]
     },
     "execution_count": 51,
     "metadata": {},
     "output_type": "execute_result"
    },
    {
     "data": {
      "image/png": "[encoded data removed]",
      "text/plain": [
       "<Figure size 432x288 with 1 Axes>"
      ]
     },
     "metadata": {
      "needs_background": "light"
     },
     "output_type": "display_data"
    }
   ],
   "source": [
    "plt.plot(val_results['Val Predictions'][-100:])\n",
    "plt.plot(val_results['Actuals'][-100:])"
   ]
  },
  {
   "cell_type": "code",
   "execution_count": 52,
   "id": "67a3a0cf-c94d-488c-bf02-ad877b8eecbb",
   "metadata": {},
   "outputs": [
    {
     "data": {
      "text/plain": [
       "[<matplotlib.lines.Line2D at 0x7f56c636b7c0>]"
      ]
     },
     "execution_count": 52,
     "metadata": {},
     "output_type": "execute_result"
    },
    {
     "data": {
      "image/png": "[encoded data removed]",
      "text/plain": [
       "<Figure size 432x288 with 1 Axes>"
      ]
     },
     "metadata": {
      "needs_background": "light"
     },
     "output_type": "display_data"
    }
   ],
   "source": [
    "test_predictions = model1.predict(X_test).flatten()\n",
    "test_results = pd.DataFrame(data={'Test Predictions': test_predictions, 'Actuals': y_test}) \n",
    "plt.plot(test_results['Test Predictions'][-100:])\n",
    "plt.plot(test_results['Actuals'][-100:])"
   ]
  },
  {
   "cell_type": "code",
   "execution_count": null,
   "id": "807b49fb-847c-463f-a46a-1273abebb962",
   "metadata": {},
   "outputs": [],
   "source": []
  },
  {
   "cell_type": "code",
   "execution_count": null,
   "id": "819f5226-52c8-4996-abca-7c91d493b5b0",
   "metadata": {},
   "outputs": [],
   "source": [
    "# part 2 - multivariate"
   ]
  },
  {
   "cell_type": "code",
   "execution_count": 56,
   "id": "eacd2052-cd15-45bc-b915-df094ad46b63",
   "metadata": {},
   "outputs": [],
   "source": [
    "from sklearn.metrics import mean_squared_error as mse"
   ]
  },
  {
   "cell_type": "code",
   "execution_count": 57,
   "id": "14d5edaa-981b-48fb-9980-95caa8ae52d5",
   "metadata": {},
   "outputs": [],
   "source": [
    "def plot_predictions(model, X, y, start=0, end=100):\n",
    "    predictions = model.predict(X).flatten()\n",
    "    df = pd.DataFrame(data={'Predictions':predictions, 'Actuals':y})\n",
    "    plt.plot(df['Predictions'][start:end])\n",
    "    plt.plot(df['Actuals'][start:end])\n",
    "    return df, mse(y,predictions)"
   ]
  },
  {
   "cell_type": "code",
   "execution_count": 58,
   "id": "60ed4a4f-62aa-44c0-8c12-6fa329b59922",
   "metadata": {},
   "outputs": [
    {
     "data": {
      "text/plain": [
       "(      Predictions  Actuals\n",
       " 0       14.349796    13.99\n",
       " 1       13.234242    13.46\n",
       " 2       12.823734    12.93\n",
       " 3       12.414831    12.43\n",
       " 4       11.985056    12.17\n",
       " ...           ...      ...\n",
       " 5081    -0.954487    -0.98\n",
       " 5082    -1.400376    -1.40\n",
       " 5083    -1.607586    -2.75\n",
       " 5084    -3.083943    -2.89\n",
       " 5085    -3.111995    -3.93\n",
       " \n",
       " [5086 rows x 2 columns],\n",
       " 0.66138852049766)"
      ]
     },
     "execution_count": 58,
     "metadata": {},
     "output_type": "execute_result"
    },
    {
     "data": {
      "image/png": "[encoded data removed]",
      "text/plain": [
       "<Figure size 432x288 with 1 Axes>"
      ]
     },
     "metadata": {
      "needs_background": "light"
     },
     "output_type": "display_data"
    }
   ],
   "source": [
    "plot_predictions(model1, X_test, y_test)"
   ]
  },
  {
   "cell_type": "code",
   "execution_count": 59,
   "id": "851ed17b-349e-45d1-94e3-1c1e72ad7d8c",
   "metadata": {},
   "outputs": [],
   "source": [
    "model2 = Sequential()\n",
    "model2.add(InputLayer(input_shape=(5,1)))  # 5,1 where '1' means univariate\n",
    "model2.add(Conv1D(64, kernel_size=2))\n",
    "model2.add(Flatten())\n",
    "model2.add(Dense(8, 'relu'))\n",
    "model2.add(Dense(1, 'linear'))\n"
   ]
  },
  {
   "cell_type": "code",
   "execution_count": 60,
   "id": "96fea81d-09d4-4712-9fe3-5cfd043171b9",
   "metadata": {},
   "outputs": [
    {
     "name": "stdout",
     "output_type": "stream",
     "text": [
      "Model: \"sequential_1\"\n",
      "_________________________________________________________________\n",
      " Layer (type)                Output Shape              Param #   \n",
      "=================================================================\n",
      " conv1d (Conv1D)             (None, 4, 64)             192       \n",
      "                                                                 \n",
      " flatten (Flatten)           (None, 256)               0         \n",
      "                                                                 \n",
      " dense_2 (Dense)             (None, 8)                 2056      \n",
      "                                                                 \n",
      " dense_3 (Dense)             (None, 1)                 9         \n",
      "                                                                 \n",
      "=================================================================\n",
      "Total params: 2,257\n",
      "Trainable params: 2,257\n",
      "Non-trainable params: 0\n",
      "_________________________________________________________________\n"
     ]
    }
   ],
   "source": [
    "model2.summary()"
   ]
  },
  {
   "cell_type": "code",
   "execution_count": 61,
   "id": "376e9b27-c460-46d7-ab69-817682af735f",
   "metadata": {},
   "outputs": [],
   "source": [
    "cp2 = ModelCheckpoint('model2/', save_best_only=True)\n",
    "model2.compile(loss=MeanSquaredError(), optimizer=Adam(learning_rate=0.0001), metrics=[RootMeanSquaredError()])\n"
   ]
  },
  {
   "cell_type": "code",
   "execution_count": 62,
   "id": "2584e9a3-e226-44b3-aafa-639affb9d8c0",
   "metadata": {},
   "outputs": [
    {
     "name": "stdout",
     "output_type": "stream",
     "text": [
      "Epoch 1/10\n",
      "1842/1875 [============================>.] - ETA: 0s - loss: 13.3474 - root_mean_squared_error: 3.6534INFO:tensorflow:Assets written to: model2/assets\n"
     ]
    },
    {
     "name": "stderr",
     "output_type": "stream",
     "text": [
      "INFO:tensorflow:Assets written to: model2/assets\n"
     ]
    },
    {
     "name": "stdout",
     "output_type": "stream",
     "text": [
      "1875/1875 [==============================] - 4s 2ms/step - loss: 13.1711 - root_mean_squared_error: 3.6292 - val_loss: 2.1415 - val_root_mean_squared_error: 1.4634\n",
      "Epoch 2/10\n",
      "1842/1875 [============================>.] - ETA: 0s - loss: 1.2205 - root_mean_squared_error: 1.1048INFO:tensorflow:Assets written to: model2/assets\n"
     ]
    },
    {
     "name": "stderr",
     "output_type": "stream",
     "text": [
      "INFO:tensorflow:Assets written to: model2/assets\n"
     ]
    },
    {
     "name": "stdout",
     "output_type": "stream",
     "text": [
      "1875/1875 [==============================] - 3s 2ms/step - loss: 1.2164 - root_mean_squared_error: 1.1029 - val_loss: 0.6904 - val_root_mean_squared_error: 0.8309\n",
      "Epoch 3/10\n",
      "1841/1875 [============================>.] - ETA: 0s - loss: 0.8384 - root_mean_squared_error: 0.9157INFO:tensorflow:Assets written to: model2/assets\n"
     ]
    },
    {
     "name": "stderr",
     "output_type": "stream",
     "text": [
      "INFO:tensorflow:Assets written to: model2/assets\n"
     ]
    },
    {
     "name": "stdout",
     "output_type": "stream",
     "text": [
      "1875/1875 [==============================] - 3s 2ms/step - loss: 0.8396 - root_mean_squared_error: 0.9163 - val_loss: 0.5974 - val_root_mean_squared_error: 0.7729\n",
      "Epoch 4/10\n",
      "1875/1875 [==============================] - 2s 1ms/step - loss: 0.7631 - root_mean_squared_error: 0.8736 - val_loss: 0.6038 - val_root_mean_squared_error: 0.7770\n",
      "Epoch 5/10\n",
      "1872/1875 [============================>.] - ETA: 0s - loss: 0.7380 - root_mean_squared_error: 0.8591INFO:tensorflow:Assets written to: model2/assets\n"
     ]
    },
    {
     "name": "stderr",
     "output_type": "stream",
     "text": [
      "INFO:tensorflow:Assets written to: model2/assets\n"
     ]
    },
    {
     "name": "stdout",
     "output_type": "stream",
     "text": [
      "1875/1875 [==============================] - 3s 2ms/step - loss: 0.7376 - root_mean_squared_error: 0.8589 - val_loss: 0.5716 - val_root_mean_squared_error: 0.7560\n",
      "Epoch 6/10\n",
      "1868/1875 [============================>.] - ETA: 0s - loss: 0.7297 - root_mean_squared_error: 0.8543INFO:tensorflow:Assets written to: model2/assets\n"
     ]
    },
    {
     "name": "stderr",
     "output_type": "stream",
     "text": [
      "INFO:tensorflow:Assets written to: model2/assets\n"
     ]
    },
    {
     "name": "stdout",
     "output_type": "stream",
     "text": [
      "1875/1875 [==============================] - 3s 2ms/step - loss: 0.7293 - root_mean_squared_error: 0.8540 - val_loss: 0.5450 - val_root_mean_squared_error: 0.7382\n",
      "Epoch 7/10\n",
      "1875/1875 [==============================] - 3s 1ms/step - loss: 0.7221 - root_mean_squared_error: 0.8498 - val_loss: 0.5474 - val_root_mean_squared_error: 0.7399\n",
      "Epoch 8/10\n",
      "1875/1875 [==============================] - 2s 1ms/step - loss: 0.7173 - root_mean_squared_error: 0.8469 - val_loss: 0.5944 - val_root_mean_squared_error: 0.7710\n",
      "Epoch 9/10\n",
      "1855/1875 [============================>.] - ETA: 0s - loss: 0.7160 - root_mean_squared_error: 0.8462INFO:tensorflow:Assets written to: model2/assets\n"
     ]
    },
    {
     "name": "stderr",
     "output_type": "stream",
     "text": [
      "INFO:tensorflow:Assets written to: model2/assets\n"
     ]
    },
    {
     "name": "stdout",
     "output_type": "stream",
     "text": [
      "1875/1875 [==============================] - 3s 2ms/step - loss: 0.7161 - root_mean_squared_error: 0.8462 - val_loss: 0.5333 - val_root_mean_squared_error: 0.7303\n",
      "Epoch 10/10\n",
      "1867/1875 [============================>.] - ETA: 0s - loss: 0.7105 - root_mean_squared_error: 0.8429INFO:tensorflow:Assets written to: model2/assets\n"
     ]
    },
    {
     "name": "stderr",
     "output_type": "stream",
     "text": [
      "INFO:tensorflow:Assets written to: model2/assets\n"
     ]
    },
    {
     "name": "stdout",
     "output_type": "stream",
     "text": [
      "1875/1875 [==============================] - 3s 2ms/step - loss: 0.7117 - root_mean_squared_error: 0.8436 - val_loss: 0.5320 - val_root_mean_squared_error: 0.7294\n"
     ]
    },
    {
     "data": {
      "text/plain": [
       "<keras.callbacks.History at 0x7f56927e7970>"
      ]
     },
     "execution_count": 62,
     "metadata": {},
     "output_type": "execute_result"
    }
   ],
   "source": [
    "model2.fit(X_train, y_train, validation_data=(X_val, y_val), epochs=10, callbacks=[cp2])\n",
    "\n"
   ]
  },
  {
   "cell_type": "code",
   "execution_count": null,
   "id": "ccb0cef4-40cf-406c-8a74-22bc6405e3de",
   "metadata": {},
   "outputs": [],
   "source": []
  },
  {
   "cell_type": "code",
   "execution_count": 63,
   "id": "14e67f40-e1aa-4ce0-9927-4069eb4f89da",
   "metadata": {},
   "outputs": [],
   "source": [
    "# Use GRU"
   ]
  },
  {
   "cell_type": "code",
   "execution_count": 64,
   "id": "9cc41d72-0db3-4c43-b991-1ca7acaaf5c1",
   "metadata": {},
   "outputs": [
    {
     "name": "stdout",
     "output_type": "stream",
     "text": [
      "Model: \"sequential_2\"\n",
      "_________________________________________________________________\n",
      " Layer (type)                Output Shape              Param #   \n",
      "=================================================================\n",
      " gru (GRU)                   (None, 64)                12864     \n",
      "                                                                 \n",
      " flatten_1 (Flatten)         (None, 64)                0         \n",
      "                                                                 \n",
      " dense_4 (Dense)             (None, 8)                 520       \n",
      "                                                                 \n",
      " dense_5 (Dense)             (None, 1)                 9         \n",
      "                                                                 \n",
      "=================================================================\n",
      "Total params: 13,393\n",
      "Trainable params: 13,393\n",
      "Non-trainable params: 0\n",
      "_________________________________________________________________\n"
     ]
    }
   ],
   "source": [
    "model3 = Sequential()\n",
    "model3.add(InputLayer(input_shape=(5,1)))  # 5,1 where '1' means univariate\n",
    "model3.add(GRU(64))\n",
    "model3.add(Flatten())\n",
    "model3.add(Dense(8, 'relu'))\n",
    "model3.add(Dense(1, 'linear'))\n",
    "\n",
    "model3.summary()"
   ]
  },
  {
   "cell_type": "code",
   "execution_count": 65,
   "id": "3ca23c38-89f8-4552-9686-fb7e08871bcf",
   "metadata": {},
   "outputs": [
    {
     "name": "stdout",
     "output_type": "stream",
     "text": [
      "Epoch 1/10\n",
      "1863/1875 [============================>.] - ETA: 0s - loss: 24.8393 - root_mean_squared_error: 4.9839"
     ]
    },
    {
     "name": "stderr",
     "output_type": "stream",
     "text": [
      "WARNING:absl:Found untraced functions such as gru_cell_layer_call_fn, gru_cell_layer_call_and_return_conditional_losses while saving (showing 2 of 2). These functions will not be directly callable after loading.\n"
     ]
    },
    {
     "name": "stdout",
     "output_type": "stream",
     "text": [
      "INFO:tensorflow:Assets written to: model3/assets\n"
     ]
    },
    {
     "name": "stderr",
     "output_type": "stream",
     "text": [
      "INFO:tensorflow:Assets written to: model3/assets\n",
      "WARNING:absl:<keras.layers.recurrent.GRUCell object at 0x7f56af255130> has the same name 'GRUCell' as a built-in Keras object. Consider renaming <class 'keras.layers.recurrent.GRUCell'> to avoid naming conflicts when loading with `tf.keras.models.load_model`. If renaming is not possible, pass the object in the `custom_objects` parameter of the load function.\n"
     ]
    },
    {
     "name": "stdout",
     "output_type": "stream",
     "text": [
      "1875/1875 [==============================] - 11s 5ms/step - loss: 24.7009 - root_mean_squared_error: 4.9700 - val_loss: 1.0094 - val_root_mean_squared_error: 1.0047\n",
      "Epoch 2/10\n",
      "1870/1875 [============================>.] - ETA: 0s - loss: 1.6106 - root_mean_squared_error: 1.2691"
     ]
    },
    {
     "name": "stderr",
     "output_type": "stream",
     "text": [
      "WARNING:absl:Found untraced functions such as gru_cell_layer_call_fn, gru_cell_layer_call_and_return_conditional_losses while saving (showing 2 of 2). These functions will not be directly callable after loading.\n"
     ]
    },
    {
     "name": "stdout",
     "output_type": "stream",
     "text": [
      "INFO:tensorflow:Assets written to: model3/assets\n"
     ]
    },
    {
     "name": "stderr",
     "output_type": "stream",
     "text": [
      "INFO:tensorflow:Assets written to: model3/assets\n",
      "WARNING:absl:<keras.layers.recurrent.GRUCell object at 0x7f56af255130> has the same name 'GRUCell' as a built-in Keras object. Consider renaming <class 'keras.layers.recurrent.GRUCell'> to avoid naming conflicts when loading with `tf.keras.models.load_model`. If renaming is not possible, pass the object in the `custom_objects` parameter of the load function.\n"
     ]
    },
    {
     "name": "stdout",
     "output_type": "stream",
     "text": [
      "1875/1875 [==============================] - 10s 5ms/step - loss: 1.6088 - root_mean_squared_error: 1.2684 - val_loss: 0.6036 - val_root_mean_squared_error: 0.7769\n",
      "Epoch 3/10\n",
      "1859/1875 [============================>.] - ETA: 0s - loss: 0.8294 - root_mean_squared_error: 0.9107"
     ]
    },
    {
     "name": "stderr",
     "output_type": "stream",
     "text": [
      "WARNING:absl:Found untraced functions such as gru_cell_layer_call_fn, gru_cell_layer_call_and_return_conditional_losses while saving (showing 2 of 2). These functions will not be directly callable after loading.\n"
     ]
    },
    {
     "name": "stdout",
     "output_type": "stream",
     "text": [
      "INFO:tensorflow:Assets written to: model3/assets\n"
     ]
    },
    {
     "name": "stderr",
     "output_type": "stream",
     "text": [
      "INFO:tensorflow:Assets written to: model3/assets\n",
      "WARNING:absl:<keras.layers.recurrent.GRUCell object at 0x7f56af255130> has the same name 'GRUCell' as a built-in Keras object. Consider renaming <class 'keras.layers.recurrent.GRUCell'> to avoid naming conflicts when loading with `tf.keras.models.load_model`. If renaming is not possible, pass the object in the `custom_objects` parameter of the load function.\n"
     ]
    },
    {
     "name": "stdout",
     "output_type": "stream",
     "text": [
      "1875/1875 [==============================] - 9s 5ms/step - loss: 0.8284 - root_mean_squared_error: 0.9102 - val_loss: 0.5328 - val_root_mean_squared_error: 0.7299\n",
      "Epoch 4/10\n",
      "1862/1875 [============================>.] - ETA: 0s - loss: 0.6970 - root_mean_squared_error: 0.8349"
     ]
    },
    {
     "name": "stderr",
     "output_type": "stream",
     "text": [
      "WARNING:absl:Found untraced functions such as gru_cell_layer_call_fn, gru_cell_layer_call_and_return_conditional_losses while saving (showing 2 of 2). These functions will not be directly callable after loading.\n"
     ]
    },
    {
     "name": "stdout",
     "output_type": "stream",
     "text": [
      "INFO:tensorflow:Assets written to: model3/assets\n"
     ]
    },
    {
     "name": "stderr",
     "output_type": "stream",
     "text": [
      "INFO:tensorflow:Assets written to: model3/assets\n",
      "WARNING:absl:<keras.layers.recurrent.GRUCell object at 0x7f56af255130> has the same name 'GRUCell' as a built-in Keras object. Consider renaming <class 'keras.layers.recurrent.GRUCell'> to avoid naming conflicts when loading with `tf.keras.models.load_model`. If renaming is not possible, pass the object in the `custom_objects` parameter of the load function.\n"
     ]
    },
    {
     "name": "stdout",
     "output_type": "stream",
     "text": [
      "1875/1875 [==============================] - 9s 5ms/step - loss: 0.6974 - root_mean_squared_error: 0.8351 - val_loss: 0.5200 - val_root_mean_squared_error: 0.7211\n",
      "Epoch 5/10\n",
      "1875/1875 [==============================] - ETA: 0s - loss: 0.6643 - root_mean_squared_error: 0.8151"
     ]
    },
    {
     "name": "stderr",
     "output_type": "stream",
     "text": [
      "WARNING:absl:Found untraced functions such as gru_cell_layer_call_fn, gru_cell_layer_call_and_return_conditional_losses while saving (showing 2 of 2). These functions will not be directly callable after loading.\n"
     ]
    },
    {
     "name": "stdout",
     "output_type": "stream",
     "text": [
      "INFO:tensorflow:Assets written to: model3/assets\n"
     ]
    },
    {
     "name": "stderr",
     "output_type": "stream",
     "text": [
      "INFO:tensorflow:Assets written to: model3/assets\n",
      "WARNING:absl:<keras.layers.recurrent.GRUCell object at 0x7f56af255130> has the same name 'GRUCell' as a built-in Keras object. Consider renaming <class 'keras.layers.recurrent.GRUCell'> to avoid naming conflicts when loading with `tf.keras.models.load_model`. If renaming is not possible, pass the object in the `custom_objects` parameter of the load function.\n"
     ]
    },
    {
     "name": "stdout",
     "output_type": "stream",
     "text": [
      "1875/1875 [==============================] - 10s 5ms/step - loss: 0.6643 - root_mean_squared_error: 0.8151 - val_loss: 0.5176 - val_root_mean_squared_error: 0.7195\n",
      "Epoch 6/10\n",
      "1860/1875 [============================>.] - ETA: 0s - loss: 0.6534 - root_mean_squared_error: 0.8083"
     ]
    },
    {
     "name": "stderr",
     "output_type": "stream",
     "text": [
      "WARNING:absl:Found untraced functions such as gru_cell_layer_call_fn, gru_cell_layer_call_and_return_conditional_losses while saving (showing 2 of 2). These functions will not be directly callable after loading.\n"
     ]
    },
    {
     "name": "stdout",
     "output_type": "stream",
     "text": [
      "INFO:tensorflow:Assets written to: model3/assets\n"
     ]
    },
    {
     "name": "stderr",
     "output_type": "stream",
     "text": [
      "INFO:tensorflow:Assets written to: model3/assets\n",
      "WARNING:absl:<keras.layers.recurrent.GRUCell object at 0x7f56af255130> has the same name 'GRUCell' as a built-in Keras object. Consider renaming <class 'keras.layers.recurrent.GRUCell'> to avoid naming conflicts when loading with `tf.keras.models.load_model`. If renaming is not possible, pass the object in the `custom_objects` parameter of the load function.\n"
     ]
    },
    {
     "name": "stdout",
     "output_type": "stream",
     "text": [
      "1875/1875 [==============================] - 9s 5ms/step - loss: 0.6524 - root_mean_squared_error: 0.8077 - val_loss: 0.4992 - val_root_mean_squared_error: 0.7065\n",
      "Epoch 7/10\n",
      "1872/1875 [============================>.] - ETA: 0s - loss: 0.6474 - root_mean_squared_error: 0.8046"
     ]
    },
    {
     "name": "stderr",
     "output_type": "stream",
     "text": [
      "WARNING:absl:Found untraced functions such as gru_cell_layer_call_fn, gru_cell_layer_call_and_return_conditional_losses while saving (showing 2 of 2). These functions will not be directly callable after loading.\n"
     ]
    },
    {
     "name": "stdout",
     "output_type": "stream",
     "text": [
      "INFO:tensorflow:Assets written to: model3/assets\n"
     ]
    },
    {
     "name": "stderr",
     "output_type": "stream",
     "text": [
      "INFO:tensorflow:Assets written to: model3/assets\n",
      "WARNING:absl:<keras.layers.recurrent.GRUCell object at 0x7f56af255130> has the same name 'GRUCell' as a built-in Keras object. Consider renaming <class 'keras.layers.recurrent.GRUCell'> to avoid naming conflicts when loading with `tf.keras.models.load_model`. If renaming is not possible, pass the object in the `custom_objects` parameter of the load function.\n"
     ]
    },
    {
     "name": "stdout",
     "output_type": "stream",
     "text": [
      "1875/1875 [==============================] - 9s 5ms/step - loss: 0.6480 - root_mean_squared_error: 0.8050 - val_loss: 0.4981 - val_root_mean_squared_error: 0.7057\n",
      "Epoch 8/10\n",
      "1866/1875 [============================>.] - ETA: 0s - loss: 0.6440 - root_mean_squared_error: 0.8025"
     ]
    },
    {
     "name": "stderr",
     "output_type": "stream",
     "text": [
      "WARNING:absl:Found untraced functions such as gru_cell_layer_call_fn, gru_cell_layer_call_and_return_conditional_losses while saving (showing 2 of 2). These functions will not be directly callable after loading.\n"
     ]
    },
    {
     "name": "stdout",
     "output_type": "stream",
     "text": [
      "INFO:tensorflow:Assets written to: model3/assets\n"
     ]
    },
    {
     "name": "stderr",
     "output_type": "stream",
     "text": [
      "INFO:tensorflow:Assets written to: model3/assets\n",
      "WARNING:absl:<keras.layers.recurrent.GRUCell object at 0x7f56af255130> has the same name 'GRUCell' as a built-in Keras object. Consider renaming <class 'keras.layers.recurrent.GRUCell'> to avoid naming conflicts when loading with `tf.keras.models.load_model`. If renaming is not possible, pass the object in the `custom_objects` parameter of the load function.\n"
     ]
    },
    {
     "name": "stdout",
     "output_type": "stream",
     "text": [
      "1875/1875 [==============================] - 9s 5ms/step - loss: 0.6438 - root_mean_squared_error: 0.8024 - val_loss: 0.4946 - val_root_mean_squared_error: 0.7033\n",
      "Epoch 9/10\n",
      "1865/1875 [============================>.] - ETA: 0s - loss: 0.6423 - root_mean_squared_error: 0.8014"
     ]
    },
    {
     "name": "stderr",
     "output_type": "stream",
     "text": [
      "WARNING:absl:Found untraced functions such as gru_cell_layer_call_fn, gru_cell_layer_call_and_return_conditional_losses while saving (showing 2 of 2). These functions will not be directly callable after loading.\n"
     ]
    },
    {
     "name": "stdout",
     "output_type": "stream",
     "text": [
      "INFO:tensorflow:Assets written to: model3/assets\n"
     ]
    },
    {
     "name": "stderr",
     "output_type": "stream",
     "text": [
      "INFO:tensorflow:Assets written to: model3/assets\n",
      "WARNING:absl:<keras.layers.recurrent.GRUCell object at 0x7f56af255130> has the same name 'GRUCell' as a built-in Keras object. Consider renaming <class 'keras.layers.recurrent.GRUCell'> to avoid naming conflicts when loading with `tf.keras.models.load_model`. If renaming is not possible, pass the object in the `custom_objects` parameter of the load function.\n"
     ]
    },
    {
     "name": "stdout",
     "output_type": "stream",
     "text": [
      "1875/1875 [==============================] - 10s 5ms/step - loss: 0.6416 - root_mean_squared_error: 0.8010 - val_loss: 0.4894 - val_root_mean_squared_error: 0.6996\n",
      "Epoch 10/10\n",
      "1875/1875 [==============================] - 6s 3ms/step - loss: 0.6409 - root_mean_squared_error: 0.8006 - val_loss: 0.4968 - val_root_mean_squared_error: 0.7049\n"
     ]
    },
    {
     "data": {
      "text/plain": [
       "<keras.callbacks.History at 0x7f569203b460>"
      ]
     },
     "execution_count": 65,
     "metadata": {},
     "output_type": "execute_result"
    }
   ],
   "source": [
    "cp3 = ModelCheckpoint('model3/', save_best_only=True)\n",
    "model3.compile(loss=MeanSquaredError(), optimizer=Adam(learning_rate=0.0001), metrics=[RootMeanSquaredError()])\n",
    "model3.fit(X_train, y_train, validation_data=(X_val, y_val), epochs=10, callbacks=[cp3])\n"
   ]
  },
  {
   "cell_type": "code",
   "execution_count": null,
   "id": "5431329a-1b05-4a47-b7ec-542bc2eb70e1",
   "metadata": {},
   "outputs": [],
   "source": []
  },
  {
   "cell_type": "code",
   "execution_count": 66,
   "id": "b06886b2-7b24-4ea6-89c4-7ade5782b7cc",
   "metadata": {},
   "outputs": [],
   "source": [
    "# Multiple Variables"
   ]
  },
  {
   "cell_type": "code",
   "execution_count": 67,
   "id": "53e8eba0-3f0a-437e-b7a1-1313745bc4b5",
   "metadata": {},
   "outputs": [],
   "source": [
    "temp_df = pd.DataFrame({'Temperature':temp})"
   ]
  },
  {
   "cell_type": "code",
   "execution_count": 68,
   "id": "40a1907c-6546-4dc2-8402-26905f3a74bd",
   "metadata": {},
   "outputs": [
    {
     "data": {
      "text/html": [
       "<div>\n",
       "<style scoped>\n",
       "    .dataframe tbody tr th:only-of-type {\n",
       "        vertical-align: middle;\n",
       "    }\n",
       "\n",
       "    .dataframe tbody tr th {\n",
       "        vertical-align: top;\n",
       "    }\n",
       "\n",
       "    .dataframe thead th {\n",
       "        text-align: right;\n",
       "    }\n",
       "</style>\n",
       "<table border=\"1\" class=\"dataframe\">\n",
       "  <thead>\n",
       "    <tr style=\"text-align: right;\">\n",
       "      <th></th>\n",
       "      <th>Temperature</th>\n",
       "    </tr>\n",
       "    <tr>\n",
       "      <th>Date Time</th>\n",
       "      <th></th>\n",
       "    </tr>\n",
       "  </thead>\n",
       "  <tbody>\n",
       "    <tr>\n",
       "      <th>2009-01-01 01:00:00</th>\n",
       "      <td>-8.05</td>\n",
       "    </tr>\n",
       "    <tr>\n",
       "      <th>2009-01-01 02:00:00</th>\n",
       "      <td>-8.88</td>\n",
       "    </tr>\n",
       "    <tr>\n",
       "      <th>2009-01-01 03:00:00</th>\n",
       "      <td>-8.81</td>\n",
       "    </tr>\n",
       "    <tr>\n",
       "      <th>2009-01-01 04:00:00</th>\n",
       "      <td>-9.05</td>\n",
       "    </tr>\n",
       "    <tr>\n",
       "      <th>2009-01-01 05:00:00</th>\n",
       "      <td>-9.63</td>\n",
       "    </tr>\n",
       "    <tr>\n",
       "      <th>...</th>\n",
       "      <td>...</td>\n",
       "    </tr>\n",
       "    <tr>\n",
       "      <th>2016-12-31 19:10:00</th>\n",
       "      <td>-0.98</td>\n",
       "    </tr>\n",
       "    <tr>\n",
       "      <th>2016-12-31 20:10:00</th>\n",
       "      <td>-1.40</td>\n",
       "    </tr>\n",
       "    <tr>\n",
       "      <th>2016-12-31 21:10:00</th>\n",
       "      <td>-2.75</td>\n",
       "    </tr>\n",
       "    <tr>\n",
       "      <th>2016-12-31 22:10:00</th>\n",
       "      <td>-2.89</td>\n",
       "    </tr>\n",
       "    <tr>\n",
       "      <th>2016-12-31 23:10:00</th>\n",
       "      <td>-3.93</td>\n",
       "    </tr>\n",
       "  </tbody>\n",
       "</table>\n",
       "<p>70091 rows × 1 columns</p>\n",
       "</div>"
      ],
      "text/plain": [
       "                     Temperature\n",
       "Date Time                       \n",
       "2009-01-01 01:00:00        -8.05\n",
       "2009-01-01 02:00:00        -8.88\n",
       "2009-01-01 03:00:00        -8.81\n",
       "2009-01-01 04:00:00        -9.05\n",
       "2009-01-01 05:00:00        -9.63\n",
       "...                          ...\n",
       "2016-12-31 19:10:00        -0.98\n",
       "2016-12-31 20:10:00        -1.40\n",
       "2016-12-31 21:10:00        -2.75\n",
       "2016-12-31 22:10:00        -2.89\n",
       "2016-12-31 23:10:00        -3.93\n",
       "\n",
       "[70091 rows x 1 columns]"
      ]
     },
     "execution_count": 68,
     "metadata": {},
     "output_type": "execute_result"
    }
   ],
   "source": [
    "temp_df"
   ]
  },
  {
   "cell_type": "code",
   "execution_count": 69,
   "id": "f92a4d74-7b2b-44b3-9652-a2b30eb7ec11",
   "metadata": {},
   "outputs": [
    {
     "data": {
      "text/html": [
       "<div>\n",
       "<style scoped>\n",
       "    .dataframe tbody tr th:only-of-type {\n",
       "        vertical-align: middle;\n",
       "    }\n",
       "\n",
       "    .dataframe tbody tr th {\n",
       "        vertical-align: top;\n",
       "    }\n",
       "\n",
       "    .dataframe thead th {\n",
       "        text-align: right;\n",
       "    }\n",
       "</style>\n",
       "<table border=\"1\" class=\"dataframe\">\n",
       "  <thead>\n",
       "    <tr style=\"text-align: right;\">\n",
       "      <th></th>\n",
       "      <th>Temperature</th>\n",
       "      <th>Seconds</th>\n",
       "    </tr>\n",
       "    <tr>\n",
       "      <th>Date Time</th>\n",
       "      <th></th>\n",
       "      <th></th>\n",
       "    </tr>\n",
       "  </thead>\n",
       "  <tbody>\n",
       "    <tr>\n",
       "      <th>2009-01-01 01:00:00</th>\n",
       "      <td>-8.05</td>\n",
       "      <td>1.230772e+09</td>\n",
       "    </tr>\n",
       "    <tr>\n",
       "      <th>2009-01-01 02:00:00</th>\n",
       "      <td>-8.88</td>\n",
       "      <td>1.230775e+09</td>\n",
       "    </tr>\n",
       "    <tr>\n",
       "      <th>2009-01-01 03:00:00</th>\n",
       "      <td>-8.81</td>\n",
       "      <td>1.230779e+09</td>\n",
       "    </tr>\n",
       "    <tr>\n",
       "      <th>2009-01-01 04:00:00</th>\n",
       "      <td>-9.05</td>\n",
       "      <td>1.230782e+09</td>\n",
       "    </tr>\n",
       "    <tr>\n",
       "      <th>2009-01-01 05:00:00</th>\n",
       "      <td>-9.63</td>\n",
       "      <td>1.230786e+09</td>\n",
       "    </tr>\n",
       "    <tr>\n",
       "      <th>...</th>\n",
       "      <td>...</td>\n",
       "      <td>...</td>\n",
       "    </tr>\n",
       "    <tr>\n",
       "      <th>2016-12-31 19:10:00</th>\n",
       "      <td>-0.98</td>\n",
       "      <td>1.483211e+09</td>\n",
       "    </tr>\n",
       "    <tr>\n",
       "      <th>2016-12-31 20:10:00</th>\n",
       "      <td>-1.40</td>\n",
       "      <td>1.483215e+09</td>\n",
       "    </tr>\n",
       "    <tr>\n",
       "      <th>2016-12-31 21:10:00</th>\n",
       "      <td>-2.75</td>\n",
       "      <td>1.483219e+09</td>\n",
       "    </tr>\n",
       "    <tr>\n",
       "      <th>2016-12-31 22:10:00</th>\n",
       "      <td>-2.89</td>\n",
       "      <td>1.483222e+09</td>\n",
       "    </tr>\n",
       "    <tr>\n",
       "      <th>2016-12-31 23:10:00</th>\n",
       "      <td>-3.93</td>\n",
       "      <td>1.483226e+09</td>\n",
       "    </tr>\n",
       "  </tbody>\n",
       "</table>\n",
       "<p>70091 rows × 2 columns</p>\n",
       "</div>"
      ],
      "text/plain": [
       "                     Temperature       Seconds\n",
       "Date Time                                     \n",
       "2009-01-01 01:00:00        -8.05  1.230772e+09\n",
       "2009-01-01 02:00:00        -8.88  1.230775e+09\n",
       "2009-01-01 03:00:00        -8.81  1.230779e+09\n",
       "2009-01-01 04:00:00        -9.05  1.230782e+09\n",
       "2009-01-01 05:00:00        -9.63  1.230786e+09\n",
       "...                          ...           ...\n",
       "2016-12-31 19:10:00        -0.98  1.483211e+09\n",
       "2016-12-31 20:10:00        -1.40  1.483215e+09\n",
       "2016-12-31 21:10:00        -2.75  1.483219e+09\n",
       "2016-12-31 22:10:00        -2.89  1.483222e+09\n",
       "2016-12-31 23:10:00        -3.93  1.483226e+09\n",
       "\n",
       "[70091 rows x 2 columns]"
      ]
     },
     "execution_count": 69,
     "metadata": {},
     "output_type": "execute_result"
    }
   ],
   "source": [
    "temp_df['Seconds'] = temp_df.index.map(pd.Timestamp.timestamp)\n",
    "temp_df"
   ]
  },
  {
   "cell_type": "code",
   "execution_count": 70,
   "id": "e12a8186-c6bb-4e98-b9d9-3daa65bd35e9",
   "metadata": {},
   "outputs": [],
   "source": [
    "day = 60*60*24\n",
    "year = day*365.2425"
   ]
  },
  {
   "cell_type": "code",
   "execution_count": 74,
   "id": "099c6ded-d5f2-4523-902d-197bd7881711",
   "metadata": {},
   "outputs": [],
   "source": [
    "temp_df['Day sin'] = np.sin(temp_df['Seconds']*(2*np.pi/day))\n",
    "temp_df['Day cos'] = np.cos(temp_df['Seconds']*(2*np.pi/day))\n",
    "temp_df['Year sin'] = np.sin(temp_df['Seconds']*(2*np.pi/year))\n",
    "temp_df['Year cos'] = np.cos(temp_df['Seconds']*(2*np.pi/year))"
   ]
  },
  {
   "cell_type": "code",
   "execution_count": null,
   "id": "1e93d585-362d-456a-a04c-ba34e2e6fa56",
   "metadata": {},
   "outputs": [],
   "source": []
  },
  {
   "cell_type": "code",
   "execution_count": 75,
   "id": "b93315ef-13bf-4fc5-bd7d-f43138ff6bdd",
   "metadata": {},
   "outputs": [
    {
     "data": {
      "text/html": [
       "<div>\n",
       "<style scoped>\n",
       "    .dataframe tbody tr th:only-of-type {\n",
       "        vertical-align: middle;\n",
       "    }\n",
       "\n",
       "    .dataframe tbody tr th {\n",
       "        vertical-align: top;\n",
       "    }\n",
       "\n",
       "    .dataframe thead th {\n",
       "        text-align: right;\n",
       "    }\n",
       "</style>\n",
       "<table border=\"1\" class=\"dataframe\">\n",
       "  <thead>\n",
       "    <tr style=\"text-align: right;\">\n",
       "      <th></th>\n",
       "      <th>Temperature</th>\n",
       "      <th>Seconds</th>\n",
       "      <th>Day sin</th>\n",
       "      <th>Day cos</th>\n",
       "      <th>Year sin</th>\n",
       "      <th>Year cos</th>\n",
       "    </tr>\n",
       "    <tr>\n",
       "      <th>Date Time</th>\n",
       "      <th></th>\n",
       "      <th></th>\n",
       "      <th></th>\n",
       "      <th></th>\n",
       "      <th></th>\n",
       "      <th></th>\n",
       "    </tr>\n",
       "  </thead>\n",
       "  <tbody>\n",
       "    <tr>\n",
       "      <th>2009-01-01 01:00:00</th>\n",
       "      <td>-8.05</td>\n",
       "      <td>1.230772e+09</td>\n",
       "      <td>0.258819</td>\n",
       "      <td>0.965926</td>\n",
       "      <td>0.010049</td>\n",
       "      <td>0.999950</td>\n",
       "    </tr>\n",
       "    <tr>\n",
       "      <th>2009-01-01 02:00:00</th>\n",
       "      <td>-8.88</td>\n",
       "      <td>1.230775e+09</td>\n",
       "      <td>0.500000</td>\n",
       "      <td>0.866025</td>\n",
       "      <td>0.010766</td>\n",
       "      <td>0.999942</td>\n",
       "    </tr>\n",
       "    <tr>\n",
       "      <th>2009-01-01 03:00:00</th>\n",
       "      <td>-8.81</td>\n",
       "      <td>1.230779e+09</td>\n",
       "      <td>0.707107</td>\n",
       "      <td>0.707107</td>\n",
       "      <td>0.011483</td>\n",
       "      <td>0.999934</td>\n",
       "    </tr>\n",
       "    <tr>\n",
       "      <th>2009-01-01 04:00:00</th>\n",
       "      <td>-9.05</td>\n",
       "      <td>1.230782e+09</td>\n",
       "      <td>0.866025</td>\n",
       "      <td>0.500000</td>\n",
       "      <td>0.012199</td>\n",
       "      <td>0.999926</td>\n",
       "    </tr>\n",
       "    <tr>\n",
       "      <th>2009-01-01 05:00:00</th>\n",
       "      <td>-9.63</td>\n",
       "      <td>1.230786e+09</td>\n",
       "      <td>0.965926</td>\n",
       "      <td>0.258819</td>\n",
       "      <td>0.012916</td>\n",
       "      <td>0.999917</td>\n",
       "    </tr>\n",
       "    <tr>\n",
       "      <th>...</th>\n",
       "      <td>...</td>\n",
       "      <td>...</td>\n",
       "      <td>...</td>\n",
       "      <td>...</td>\n",
       "      <td>...</td>\n",
       "      <td>...</td>\n",
       "    </tr>\n",
       "    <tr>\n",
       "      <th>2016-12-31 19:10:00</th>\n",
       "      <td>-0.98</td>\n",
       "      <td>1.483211e+09</td>\n",
       "      <td>-0.953717</td>\n",
       "      <td>0.300706</td>\n",
       "      <td>0.006900</td>\n",
       "      <td>0.999976</td>\n",
       "    </tr>\n",
       "    <tr>\n",
       "      <th>2016-12-31 20:10:00</th>\n",
       "      <td>-1.40</td>\n",
       "      <td>1.483215e+09</td>\n",
       "      <td>-0.843391</td>\n",
       "      <td>0.537300</td>\n",
       "      <td>0.007617</td>\n",
       "      <td>0.999971</td>\n",
       "    </tr>\n",
       "    <tr>\n",
       "      <th>2016-12-31 21:10:00</th>\n",
       "      <td>-2.75</td>\n",
       "      <td>1.483219e+09</td>\n",
       "      <td>-0.675590</td>\n",
       "      <td>0.737277</td>\n",
       "      <td>0.008334</td>\n",
       "      <td>0.999965</td>\n",
       "    </tr>\n",
       "    <tr>\n",
       "      <th>2016-12-31 22:10:00</th>\n",
       "      <td>-2.89</td>\n",
       "      <td>1.483222e+09</td>\n",
       "      <td>-0.461749</td>\n",
       "      <td>0.887011</td>\n",
       "      <td>0.009050</td>\n",
       "      <td>0.999959</td>\n",
       "    </tr>\n",
       "    <tr>\n",
       "      <th>2016-12-31 23:10:00</th>\n",
       "      <td>-3.93</td>\n",
       "      <td>1.483226e+09</td>\n",
       "      <td>-0.216440</td>\n",
       "      <td>0.976296</td>\n",
       "      <td>0.009767</td>\n",
       "      <td>0.999952</td>\n",
       "    </tr>\n",
       "  </tbody>\n",
       "</table>\n",
       "<p>70091 rows × 6 columns</p>\n",
       "</div>"
      ],
      "text/plain": [
       "                     Temperature       Seconds   Day sin   Day cos  Year sin  \\\n",
       "Date Time                                                                      \n",
       "2009-01-01 01:00:00        -8.05  1.230772e+09  0.258819  0.965926  0.010049   \n",
       "2009-01-01 02:00:00        -8.88  1.230775e+09  0.500000  0.866025  0.010766   \n",
       "2009-01-01 03:00:00        -8.81  1.230779e+09  0.707107  0.707107  0.011483   \n",
       "2009-01-01 04:00:00        -9.05  1.230782e+09  0.866025  0.500000  0.012199   \n",
       "2009-01-01 05:00:00        -9.63  1.230786e+09  0.965926  0.258819  0.012916   \n",
       "...                          ...           ...       ...       ...       ...   \n",
       "2016-12-31 19:10:00        -0.98  1.483211e+09 -0.953717  0.300706  0.006900   \n",
       "2016-12-31 20:10:00        -1.40  1.483215e+09 -0.843391  0.537300  0.007617   \n",
       "2016-12-31 21:10:00        -2.75  1.483219e+09 -0.675590  0.737277  0.008334   \n",
       "2016-12-31 22:10:00        -2.89  1.483222e+09 -0.461749  0.887011  0.009050   \n",
       "2016-12-31 23:10:00        -3.93  1.483226e+09 -0.216440  0.976296  0.009767   \n",
       "\n",
       "                     Year cos  \n",
       "Date Time                      \n",
       "2009-01-01 01:00:00  0.999950  \n",
       "2009-01-01 02:00:00  0.999942  \n",
       "2009-01-01 03:00:00  0.999934  \n",
       "2009-01-01 04:00:00  0.999926  \n",
       "2009-01-01 05:00:00  0.999917  \n",
       "...                       ...  \n",
       "2016-12-31 19:10:00  0.999976  \n",
       "2016-12-31 20:10:00  0.999971  \n",
       "2016-12-31 21:10:00  0.999965  \n",
       "2016-12-31 22:10:00  0.999959  \n",
       "2016-12-31 23:10:00  0.999952  \n",
       "\n",
       "[70091 rows x 6 columns]"
      ]
     },
     "execution_count": 75,
     "metadata": {},
     "output_type": "execute_result"
    }
   ],
   "source": [
    "temp_df"
   ]
  },
  {
   "cell_type": "code",
   "execution_count": 76,
   "id": "7c0c1f64-6a0b-41c8-9c10-1cef0b0c4681",
   "metadata": {},
   "outputs": [],
   "source": [
    "temp_df = temp_df.drop(columns=['Seconds'])"
   ]
  },
  {
   "cell_type": "code",
   "execution_count": 77,
   "id": "8c9806d4-b3c3-43eb-93ec-fb5d124e9a39",
   "metadata": {},
   "outputs": [
    {
     "data": {
      "text/html": [
       "<div>\n",
       "<style scoped>\n",
       "    .dataframe tbody tr th:only-of-type {\n",
       "        vertical-align: middle;\n",
       "    }\n",
       "\n",
       "    .dataframe tbody tr th {\n",
       "        vertical-align: top;\n",
       "    }\n",
       "\n",
       "    .dataframe thead th {\n",
       "        text-align: right;\n",
       "    }\n",
       "</style>\n",
       "<table border=\"1\" class=\"dataframe\">\n",
       "  <thead>\n",
       "    <tr style=\"text-align: right;\">\n",
       "      <th></th>\n",
       "      <th>Temperature</th>\n",
       "      <th>Day sin</th>\n",
       "      <th>Day cos</th>\n",
       "      <th>Year sin</th>\n",
       "      <th>Year cos</th>\n",
       "    </tr>\n",
       "    <tr>\n",
       "      <th>Date Time</th>\n",
       "      <th></th>\n",
       "      <th></th>\n",
       "      <th></th>\n",
       "      <th></th>\n",
       "      <th></th>\n",
       "    </tr>\n",
       "  </thead>\n",
       "  <tbody>\n",
       "    <tr>\n",
       "      <th>2009-01-01 01:00:00</th>\n",
       "      <td>-8.05</td>\n",
       "      <td>0.258819</td>\n",
       "      <td>0.965926</td>\n",
       "      <td>0.010049</td>\n",
       "      <td>0.999950</td>\n",
       "    </tr>\n",
       "    <tr>\n",
       "      <th>2009-01-01 02:00:00</th>\n",
       "      <td>-8.88</td>\n",
       "      <td>0.500000</td>\n",
       "      <td>0.866025</td>\n",
       "      <td>0.010766</td>\n",
       "      <td>0.999942</td>\n",
       "    </tr>\n",
       "    <tr>\n",
       "      <th>2009-01-01 03:00:00</th>\n",
       "      <td>-8.81</td>\n",
       "      <td>0.707107</td>\n",
       "      <td>0.707107</td>\n",
       "      <td>0.011483</td>\n",
       "      <td>0.999934</td>\n",
       "    </tr>\n",
       "    <tr>\n",
       "      <th>2009-01-01 04:00:00</th>\n",
       "      <td>-9.05</td>\n",
       "      <td>0.866025</td>\n",
       "      <td>0.500000</td>\n",
       "      <td>0.012199</td>\n",
       "      <td>0.999926</td>\n",
       "    </tr>\n",
       "    <tr>\n",
       "      <th>2009-01-01 05:00:00</th>\n",
       "      <td>-9.63</td>\n",
       "      <td>0.965926</td>\n",
       "      <td>0.258819</td>\n",
       "      <td>0.012916</td>\n",
       "      <td>0.999917</td>\n",
       "    </tr>\n",
       "    <tr>\n",
       "      <th>...</th>\n",
       "      <td>...</td>\n",
       "      <td>...</td>\n",
       "      <td>...</td>\n",
       "      <td>...</td>\n",
       "      <td>...</td>\n",
       "    </tr>\n",
       "    <tr>\n",
       "      <th>2016-12-31 19:10:00</th>\n",
       "      <td>-0.98</td>\n",
       "      <td>-0.953717</td>\n",
       "      <td>0.300706</td>\n",
       "      <td>0.006900</td>\n",
       "      <td>0.999976</td>\n",
       "    </tr>\n",
       "    <tr>\n",
       "      <th>2016-12-31 20:10:00</th>\n",
       "      <td>-1.40</td>\n",
       "      <td>-0.843391</td>\n",
       "      <td>0.537300</td>\n",
       "      <td>0.007617</td>\n",
       "      <td>0.999971</td>\n",
       "    </tr>\n",
       "    <tr>\n",
       "      <th>2016-12-31 21:10:00</th>\n",
       "      <td>-2.75</td>\n",
       "      <td>-0.675590</td>\n",
       "      <td>0.737277</td>\n",
       "      <td>0.008334</td>\n",
       "      <td>0.999965</td>\n",
       "    </tr>\n",
       "    <tr>\n",
       "      <th>2016-12-31 22:10:00</th>\n",
       "      <td>-2.89</td>\n",
       "      <td>-0.461749</td>\n",
       "      <td>0.887011</td>\n",
       "      <td>0.009050</td>\n",
       "      <td>0.999959</td>\n",
       "    </tr>\n",
       "    <tr>\n",
       "      <th>2016-12-31 23:10:00</th>\n",
       "      <td>-3.93</td>\n",
       "      <td>-0.216440</td>\n",
       "      <td>0.976296</td>\n",
       "      <td>0.009767</td>\n",
       "      <td>0.999952</td>\n",
       "    </tr>\n",
       "  </tbody>\n",
       "</table>\n",
       "<p>70091 rows × 5 columns</p>\n",
       "</div>"
      ],
      "text/plain": [
       "                     Temperature   Day sin   Day cos  Year sin  Year cos\n",
       "Date Time                                                               \n",
       "2009-01-01 01:00:00        -8.05  0.258819  0.965926  0.010049  0.999950\n",
       "2009-01-01 02:00:00        -8.88  0.500000  0.866025  0.010766  0.999942\n",
       "2009-01-01 03:00:00        -8.81  0.707107  0.707107  0.011483  0.999934\n",
       "2009-01-01 04:00:00        -9.05  0.866025  0.500000  0.012199  0.999926\n",
       "2009-01-01 05:00:00        -9.63  0.965926  0.258819  0.012916  0.999917\n",
       "...                          ...       ...       ...       ...       ...\n",
       "2016-12-31 19:10:00        -0.98 -0.953717  0.300706  0.006900  0.999976\n",
       "2016-12-31 20:10:00        -1.40 -0.843391  0.537300  0.007617  0.999971\n",
       "2016-12-31 21:10:00        -2.75 -0.675590  0.737277  0.008334  0.999965\n",
       "2016-12-31 22:10:00        -2.89 -0.461749  0.887011  0.009050  0.999959\n",
       "2016-12-31 23:10:00        -3.93 -0.216440  0.976296  0.009767  0.999952\n",
       "\n",
       "[70091 rows x 5 columns]"
      ]
     },
     "execution_count": 77,
     "metadata": {},
     "output_type": "execute_result"
    }
   ],
   "source": [
    "temp_df"
   ]
  },
  {
   "cell_type": "code",
   "execution_count": null,
   "id": "eb14a212-4caa-4915-bbcc-9126e8153907",
   "metadata": {},
   "outputs": [],
   "source": []
  },
  {
   "cell_type": "code",
   "execution_count": 80,
   "id": "40b60b9e-18db-4b05-b2a5-63cabf9e8783",
   "metadata": {},
   "outputs": [],
   "source": [
    "# [[[t1, ds1], [t2, ds2], [t3, ds3], [t4, ds4], [t5, ds5]]]  [t6]\n",
    "# [[[t2, ds2], [t3, ds3], [t4, ds4], [t5, ds5], [t6, ds6]]]  [t7]\n",
    "\n",
    "\n",
    "def df_to_X_y_2(df, window_size=6):\n",
    "    # window_size is the number of samples to take\n",
    "    df_as_np = df.to_numpy()\n",
    "    X = []\n",
    "    y = []\n",
    "    for i in range(len(df_as_np)-window_size):\n",
    "        row = [r for r in df_as_np[i:i+window_size]]  # this creates the list of list\n",
    "        X.append(row)\n",
    "        label = df_as_np[i+window_size][0] # 0 = Temperature\n",
    "        y.append(label)\n",
    "    return np.array(X), np.array(y)"
   ]
  },
  {
   "cell_type": "code",
   "execution_count": 81,
   "id": "6bf6382e-54ab-4793-be3f-37dd7f87d8a1",
   "metadata": {},
   "outputs": [
    {
     "data": {
      "text/plain": [
       "((70085, 6, 5), (70085,))"
      ]
     },
     "execution_count": 81,
     "metadata": {},
     "output_type": "execute_result"
    }
   ],
   "source": [
    "X2, y2 = df_to_X_y_2(temp_df)\n",
    "X2.shape, y2.shape"
   ]
  },
  {
   "cell_type": "code",
   "execution_count": null,
   "id": "182db56d-6fc7-4c96-a4fd-bbec9a759ce4",
   "metadata": {},
   "outputs": [],
   "source": []
  },
  {
   "cell_type": "code",
   "execution_count": 98,
   "id": "aabb5ed8-cc96-4e8c-903a-d569e662160d",
   "metadata": {},
   "outputs": [
    {
     "data": {
      "text/plain": [
       "((60000, 6, 5), (60000,))"
      ]
     },
     "execution_count": 98,
     "metadata": {},
     "output_type": "execute_result"
    }
   ],
   "source": [
    "X2_train, y2_train = X2[:60000], y2[:60000]\n",
    "X2_val, y2_val = X2[60000:65000], y2[60000:65000]\n",
    "X2_test, y2_test = X2[65000:], y2[65000:]\n",
    "X2_train.shape, y2_train.shape, \n"
   ]
  },
  {
   "cell_type": "code",
   "execution_count": 99,
   "id": "94983133-368f-437f-b26e-d03b9e92e39d",
   "metadata": {},
   "outputs": [
    {
     "data": {
      "text/plain": [
       "((5000, 6, 5), (5000,))"
      ]
     },
     "execution_count": 99,
     "metadata": {},
     "output_type": "execute_result"
    }
   ],
   "source": [
    "X2_val.shape, y2_val.shape"
   ]
  },
  {
   "cell_type": "code",
   "execution_count": 100,
   "id": "45c39a7d-5682-41e3-9f55-51e3f04ccf5d",
   "metadata": {},
   "outputs": [
    {
     "data": {
      "text/plain": [
       "array([[-8.05, -8.88, -8.81, -9.05, -9.63, -9.67],\n",
       "       [-8.88, -8.81, -9.05, -9.63, -9.67, -9.17],\n",
       "       [-8.81, -9.05, -9.63, -9.67, -9.17, -8.1 ],\n",
       "       ...,\n",
       "       [ 4.97,  2.44,  1.29, -0.42, -0.98, -1.4 ],\n",
       "       [ 2.44,  1.29, -0.42, -0.98, -1.4 , -2.75],\n",
       "       [ 1.29, -0.42, -0.98, -1.4 , -2.75, -2.89]])"
      ]
     },
     "execution_count": 100,
     "metadata": {},
     "output_type": "execute_result"
    }
   ],
   "source": [
    "X2[:,:,0]"
   ]
  },
  {
   "cell_type": "code",
   "execution_count": null,
   "id": "65ada403-4563-4101-8360-0a198db8afd2",
   "metadata": {},
   "outputs": [],
   "source": []
  },
  {
   "cell_type": "code",
   "execution_count": 101,
   "id": "e546fd3f-6776-48e7-9261-ff5777e05a8d",
   "metadata": {},
   "outputs": [],
   "source": [
    "temp_training_mean = np.mean(X2_train[:,:,0])\n",
    "temp_training_std = np.std(X2_train[:,:,0])"
   ]
  },
  {
   "cell_type": "code",
   "execution_count": 102,
   "id": "c64f421c-1359-4525-bb4c-e0678cfae38a",
   "metadata": {},
   "outputs": [],
   "source": [
    "def preprocess(X):\n",
    "    X[:,:,0] = (X[:, :, 0] - temp_training_mean)/temp_training_std"
   ]
  },
  {
   "cell_type": "code",
   "execution_count": 103,
   "id": "b045f8e3-0a5b-4442-be9c-7105c20d3285",
   "metadata": {},
   "outputs": [],
   "source": [
    "preprocess(X2_train)\n",
    "preprocess(X2_val)\n",
    "preprocess(X2_test)"
   ]
  },
  {
   "cell_type": "code",
   "execution_count": null,
   "id": "d59cdf97-64b9-4f4d-b329-96b1804c811e",
   "metadata": {},
   "outputs": [],
   "source": []
  },
  {
   "cell_type": "code",
   "execution_count": 104,
   "id": "04f153e1-ec24-47f9-89c0-8d6fc4680ed9",
   "metadata": {},
   "outputs": [
    {
     "name": "stdout",
     "output_type": "stream",
     "text": [
      "Model: \"sequential_5\"\n",
      "_________________________________________________________________\n",
      " Layer (type)                Output Shape              Param #   \n",
      "=================================================================\n",
      " lstm_3 (LSTM)               (None, 64)                17920     \n",
      "                                                                 \n",
      " dense_10 (Dense)            (None, 8)                 520       \n",
      "                                                                 \n",
      " dense_11 (Dense)            (None, 1)                 9         \n",
      "                                                                 \n",
      "=================================================================\n",
      "Total params: 18,449\n",
      "Trainable params: 18,449\n",
      "Non-trainable params: 0\n",
      "_________________________________________________________________\n"
     ]
    }
   ],
   "source": [
    "model4 = Sequential()\n",
    "model4.add(InputLayer(input_shape=(6,5))) # 6 timesteps or window_size, 5 columns/features\n",
    "model4.add(LSTM(64))\n",
    "model4.add(Dense(8, 'relu'))\n",
    "model4.add(Dense(1, 'linear'))\n",
    "\n",
    "model4.summary()"
   ]
  },
  {
   "cell_type": "code",
   "execution_count": 105,
   "id": "ae4e2665-afc5-4e5c-b481-ed6f9bd7e88f",
   "metadata": {},
   "outputs": [
    {
     "name": "stdout",
     "output_type": "stream",
     "text": [
      "Epoch 1/10\n",
      "1871/1875 [============================>.] - ETA: 0s - loss: 29.8842 - root_mean_squared_error: 5.4666"
     ]
    },
    {
     "name": "stderr",
     "output_type": "stream",
     "text": [
      "WARNING:absl:Found untraced functions such as lstm_cell_4_layer_call_fn, lstm_cell_4_layer_call_and_return_conditional_losses while saving (showing 2 of 2). These functions will not be directly callable after loading.\n"
     ]
    },
    {
     "name": "stdout",
     "output_type": "stream",
     "text": [
      "INFO:tensorflow:Assets written to: model4/assets\n"
     ]
    },
    {
     "name": "stderr",
     "output_type": "stream",
     "text": [
      "INFO:tensorflow:Assets written to: model4/assets\n",
      "WARNING:absl:<keras.layers.recurrent.LSTMCell object at 0x7f56892d6c40> has the same name 'LSTMCell' as a built-in Keras object. Consider renaming <class 'keras.layers.recurrent.LSTMCell'> to avoid naming conflicts when loading with `tf.keras.models.load_model`. If renaming is not possible, pass the object in the `custom_objects` parameter of the load function.\n"
     ]
    },
    {
     "name": "stdout",
     "output_type": "stream",
     "text": [
      "1875/1875 [==============================] - 14s 6ms/step - loss: 29.8384 - root_mean_squared_error: 5.4625 - val_loss: 3.6998 - val_root_mean_squared_error: 1.9235\n",
      "Epoch 2/10\n",
      "1873/1875 [============================>.] - ETA: 0s - loss: 4.0031 - root_mean_squared_error: 2.0008"
     ]
    },
    {
     "name": "stderr",
     "output_type": "stream",
     "text": [
      "WARNING:absl:Found untraced functions such as lstm_cell_4_layer_call_fn, lstm_cell_4_layer_call_and_return_conditional_losses while saving (showing 2 of 2). These functions will not be directly callable after loading.\n"
     ]
    },
    {
     "name": "stdout",
     "output_type": "stream",
     "text": [
      "INFO:tensorflow:Assets written to: model4/assets\n"
     ]
    },
    {
     "name": "stderr",
     "output_type": "stream",
     "text": [
      "INFO:tensorflow:Assets written to: model4/assets\n",
      "WARNING:absl:<keras.layers.recurrent.LSTMCell object at 0x7f56892d6c40> has the same name 'LSTMCell' as a built-in Keras object. Consider renaming <class 'keras.layers.recurrent.LSTMCell'> to avoid naming conflicts when loading with `tf.keras.models.load_model`. If renaming is not possible, pass the object in the `custom_objects` parameter of the load function.\n"
     ]
    },
    {
     "name": "stdout",
     "output_type": "stream",
     "text": [
      "1875/1875 [==============================] - 11s 6ms/step - loss: 4.0016 - root_mean_squared_error: 2.0004 - val_loss: 1.7208 - val_root_mean_squared_error: 1.3118\n",
      "Epoch 3/10\n",
      "1872/1875 [============================>.] - ETA: 0s - loss: 1.5838 - root_mean_squared_error: 1.2585"
     ]
    },
    {
     "name": "stderr",
     "output_type": "stream",
     "text": [
      "WARNING:absl:Found untraced functions such as lstm_cell_4_layer_call_fn, lstm_cell_4_layer_call_and_return_conditional_losses while saving (showing 2 of 2). These functions will not be directly callable after loading.\n"
     ]
    },
    {
     "name": "stdout",
     "output_type": "stream",
     "text": [
      "INFO:tensorflow:Assets written to: model4/assets\n"
     ]
    },
    {
     "name": "stderr",
     "output_type": "stream",
     "text": [
      "INFO:tensorflow:Assets written to: model4/assets\n",
      "WARNING:absl:<keras.layers.recurrent.LSTMCell object at 0x7f56892d6c40> has the same name 'LSTMCell' as a built-in Keras object. Consider renaming <class 'keras.layers.recurrent.LSTMCell'> to avoid naming conflicts when loading with `tf.keras.models.load_model`. If renaming is not possible, pass the object in the `custom_objects` parameter of the load function.\n"
     ]
    },
    {
     "name": "stdout",
     "output_type": "stream",
     "text": [
      "1875/1875 [==============================] - 11s 6ms/step - loss: 1.5829 - root_mean_squared_error: 1.2581 - val_loss: 0.9346 - val_root_mean_squared_error: 0.9667\n",
      "Epoch 4/10\n",
      "1865/1875 [============================>.] - ETA: 0s - loss: 0.9609 - root_mean_squared_error: 0.9803"
     ]
    },
    {
     "name": "stderr",
     "output_type": "stream",
     "text": [
      "WARNING:absl:Found untraced functions such as lstm_cell_4_layer_call_fn, lstm_cell_4_layer_call_and_return_conditional_losses while saving (showing 2 of 2). These functions will not be directly callable after loading.\n"
     ]
    },
    {
     "name": "stdout",
     "output_type": "stream",
     "text": [
      "INFO:tensorflow:Assets written to: model4/assets\n"
     ]
    },
    {
     "name": "stderr",
     "output_type": "stream",
     "text": [
      "INFO:tensorflow:Assets written to: model4/assets\n",
      "WARNING:absl:<keras.layers.recurrent.LSTMCell object at 0x7f56892d6c40> has the same name 'LSTMCell' as a built-in Keras object. Consider renaming <class 'keras.layers.recurrent.LSTMCell'> to avoid naming conflicts when loading with `tf.keras.models.load_model`. If renaming is not possible, pass the object in the `custom_objects` parameter of the load function.\n"
     ]
    },
    {
     "name": "stdout",
     "output_type": "stream",
     "text": [
      "1875/1875 [==============================] - 12s 6ms/step - loss: 0.9615 - root_mean_squared_error: 0.9805 - val_loss: 0.7141 - val_root_mean_squared_error: 0.8451\n",
      "Epoch 5/10\n",
      "1867/1875 [============================>.] - ETA: 0s - loss: 0.7404 - root_mean_squared_error: 0.8605"
     ]
    },
    {
     "name": "stderr",
     "output_type": "stream",
     "text": [
      "WARNING:absl:Found untraced functions such as lstm_cell_4_layer_call_fn, lstm_cell_4_layer_call_and_return_conditional_losses while saving (showing 2 of 2). These functions will not be directly callable after loading.\n"
     ]
    },
    {
     "name": "stdout",
     "output_type": "stream",
     "text": [
      "INFO:tensorflow:Assets written to: model4/assets\n"
     ]
    },
    {
     "name": "stderr",
     "output_type": "stream",
     "text": [
      "INFO:tensorflow:Assets written to: model4/assets\n",
      "WARNING:absl:<keras.layers.recurrent.LSTMCell object at 0x7f56892d6c40> has the same name 'LSTMCell' as a built-in Keras object. Consider renaming <class 'keras.layers.recurrent.LSTMCell'> to avoid naming conflicts when loading with `tf.keras.models.load_model`. If renaming is not possible, pass the object in the `custom_objects` parameter of the load function.\n"
     ]
    },
    {
     "name": "stdout",
     "output_type": "stream",
     "text": [
      "1875/1875 [==============================] - 11s 6ms/step - loss: 0.7397 - root_mean_squared_error: 0.8601 - val_loss: 0.5346 - val_root_mean_squared_error: 0.7311\n",
      "Epoch 6/10\n",
      "1867/1875 [============================>.] - ETA: 0s - loss: 0.6144 - root_mean_squared_error: 0.7839"
     ]
    },
    {
     "name": "stderr",
     "output_type": "stream",
     "text": [
      "WARNING:absl:Found untraced functions such as lstm_cell_4_layer_call_fn, lstm_cell_4_layer_call_and_return_conditional_losses while saving (showing 2 of 2). These functions will not be directly callable after loading.\n"
     ]
    },
    {
     "name": "stdout",
     "output_type": "stream",
     "text": [
      "INFO:tensorflow:Assets written to: model4/assets\n"
     ]
    },
    {
     "name": "stderr",
     "output_type": "stream",
     "text": [
      "INFO:tensorflow:Assets written to: model4/assets\n",
      "WARNING:absl:<keras.layers.recurrent.LSTMCell object at 0x7f56892d6c40> has the same name 'LSTMCell' as a built-in Keras object. Consider renaming <class 'keras.layers.recurrent.LSTMCell'> to avoid naming conflicts when loading with `tf.keras.models.load_model`. If renaming is not possible, pass the object in the `custom_objects` parameter of the load function.\n"
     ]
    },
    {
     "name": "stdout",
     "output_type": "stream",
     "text": [
      "1875/1875 [==============================] - 10s 6ms/step - loss: 0.6146 - root_mean_squared_error: 0.7840 - val_loss: 0.4682 - val_root_mean_squared_error: 0.6842\n",
      "Epoch 7/10\n",
      "1875/1875 [==============================] - ETA: 0s - loss: 0.5570 - root_mean_squared_error: 0.7464"
     ]
    },
    {
     "name": "stderr",
     "output_type": "stream",
     "text": [
      "WARNING:absl:Found untraced functions such as lstm_cell_4_layer_call_fn, lstm_cell_4_layer_call_and_return_conditional_losses while saving (showing 2 of 2). These functions will not be directly callable after loading.\n"
     ]
    },
    {
     "name": "stdout",
     "output_type": "stream",
     "text": [
      "INFO:tensorflow:Assets written to: model4/assets\n"
     ]
    },
    {
     "name": "stderr",
     "output_type": "stream",
     "text": [
      "INFO:tensorflow:Assets written to: model4/assets\n",
      "WARNING:absl:<keras.layers.recurrent.LSTMCell object at 0x7f56892d6c40> has the same name 'LSTMCell' as a built-in Keras object. Consider renaming <class 'keras.layers.recurrent.LSTMCell'> to avoid naming conflicts when loading with `tf.keras.models.load_model`. If renaming is not possible, pass the object in the `custom_objects` parameter of the load function.\n"
     ]
    },
    {
     "name": "stdout",
     "output_type": "stream",
     "text": [
      "1875/1875 [==============================] - 12s 6ms/step - loss: 0.5570 - root_mean_squared_error: 0.7464 - val_loss: 0.4290 - val_root_mean_squared_error: 0.6550\n",
      "Epoch 8/10\n",
      "1875/1875 [==============================] - ETA: 0s - loss: 0.5385 - root_mean_squared_error: 0.7338"
     ]
    },
    {
     "name": "stderr",
     "output_type": "stream",
     "text": [
      "WARNING:absl:Found untraced functions such as lstm_cell_4_layer_call_fn, lstm_cell_4_layer_call_and_return_conditional_losses while saving (showing 2 of 2). These functions will not be directly callable after loading.\n"
     ]
    },
    {
     "name": "stdout",
     "output_type": "stream",
     "text": [
      "INFO:tensorflow:Assets written to: model4/assets\n"
     ]
    },
    {
     "name": "stderr",
     "output_type": "stream",
     "text": [
      "INFO:tensorflow:Assets written to: model4/assets\n",
      "WARNING:absl:<keras.layers.recurrent.LSTMCell object at 0x7f56892d6c40> has the same name 'LSTMCell' as a built-in Keras object. Consider renaming <class 'keras.layers.recurrent.LSTMCell'> to avoid naming conflicts when loading with `tf.keras.models.load_model`. If renaming is not possible, pass the object in the `custom_objects` parameter of the load function.\n"
     ]
    },
    {
     "name": "stdout",
     "output_type": "stream",
     "text": [
      "1875/1875 [==============================] - 11s 6ms/step - loss: 0.5385 - root_mean_squared_error: 0.7338 - val_loss: 0.4250 - val_root_mean_squared_error: 0.6519\n",
      "Epoch 9/10\n",
      "1863/1875 [============================>.] - ETA: 0s - loss: 0.5269 - root_mean_squared_error: 0.7259"
     ]
    },
    {
     "name": "stderr",
     "output_type": "stream",
     "text": [
      "WARNING:absl:Found untraced functions such as lstm_cell_4_layer_call_fn, lstm_cell_4_layer_call_and_return_conditional_losses while saving (showing 2 of 2). These functions will not be directly callable after loading.\n"
     ]
    },
    {
     "name": "stdout",
     "output_type": "stream",
     "text": [
      "INFO:tensorflow:Assets written to: model4/assets\n"
     ]
    },
    {
     "name": "stderr",
     "output_type": "stream",
     "text": [
      "INFO:tensorflow:Assets written to: model4/assets\n",
      "WARNING:absl:<keras.layers.recurrent.LSTMCell object at 0x7f56892d6c40> has the same name 'LSTMCell' as a built-in Keras object. Consider renaming <class 'keras.layers.recurrent.LSTMCell'> to avoid naming conflicts when loading with `tf.keras.models.load_model`. If renaming is not possible, pass the object in the `custom_objects` parameter of the load function.\n"
     ]
    },
    {
     "name": "stdout",
     "output_type": "stream",
     "text": [
      "1875/1875 [==============================] - 11s 6ms/step - loss: 0.5273 - root_mean_squared_error: 0.7262 - val_loss: 0.4176 - val_root_mean_squared_error: 0.6462\n",
      "Epoch 10/10\n",
      "1865/1875 [============================>.] - ETA: 0s - loss: 0.5229 - root_mean_squared_error: 0.7231"
     ]
    },
    {
     "name": "stderr",
     "output_type": "stream",
     "text": [
      "WARNING:absl:Found untraced functions such as lstm_cell_4_layer_call_fn, lstm_cell_4_layer_call_and_return_conditional_losses while saving (showing 2 of 2). These functions will not be directly callable after loading.\n"
     ]
    },
    {
     "name": "stdout",
     "output_type": "stream",
     "text": [
      "INFO:tensorflow:Assets written to: model4/assets\n"
     ]
    },
    {
     "name": "stderr",
     "output_type": "stream",
     "text": [
      "INFO:tensorflow:Assets written to: model4/assets\n",
      "WARNING:absl:<keras.layers.recurrent.LSTMCell object at 0x7f56892d6c40> has the same name 'LSTMCell' as a built-in Keras object. Consider renaming <class 'keras.layers.recurrent.LSTMCell'> to avoid naming conflicts when loading with `tf.keras.models.load_model`. If renaming is not possible, pass the object in the `custom_objects` parameter of the load function.\n"
     ]
    },
    {
     "name": "stdout",
     "output_type": "stream",
     "text": [
      "1875/1875 [==============================] - 11s 6ms/step - loss: 0.5227 - root_mean_squared_error: 0.7230 - val_loss: 0.4078 - val_root_mean_squared_error: 0.6386\n"
     ]
    },
    {
     "data": {
      "text/plain": [
       "<keras.callbacks.History at 0x7f568855d9a0>"
      ]
     },
     "execution_count": 105,
     "metadata": {},
     "output_type": "execute_result"
    }
   ],
   "source": [
    "cp4 = ModelCheckpoint('model4/', save_best_only=True)\n",
    "model4.compile(loss=MeanSquaredError(), optimizer=Adam(learning_rate=0.0001), metrics=[RootMeanSquaredError()])\n",
    "model4.fit(X2_train, y2_train, validation_data=(X2_val, y2_val), epochs=10, callbacks=[cp4])\n",
    "\n"
   ]
  },
  {
   "cell_type": "code",
   "execution_count": null,
   "id": "5bd0b9ec-a0a5-4e78-80e6-92327ccdd2df",
   "metadata": {},
   "outputs": [],
   "source": []
  },
  {
   "cell_type": "code",
   "execution_count": 106,
   "id": "52f72645-2a4e-4719-b1ae-4bed92a5350b",
   "metadata": {},
   "outputs": [
    {
     "data": {
      "text/plain": [
       "(      Predictions  Actuals\n",
       " 0       13.227312    13.46\n",
       " 1       12.821803    12.93\n",
       " 2       12.420080    12.43\n",
       " 3       12.098345    12.17\n",
       " 4       12.209262    11.55\n",
       " ...           ...      ...\n",
       " 5080    -0.978212    -0.98\n",
       " 5081    -1.415695    -1.40\n",
       " 5082    -1.708436    -2.75\n",
       " 5083    -3.052651    -2.89\n",
       " 5084    -3.150923    -3.93\n",
       " \n",
       " [5085 rows x 2 columns],\n",
       " 0.47927607914322157)"
      ]
     },
     "execution_count": 106,
     "metadata": {},
     "output_type": "execute_result"
    },
    {
     "data": {
      "image/png": "[encoded data removed]",
      "text/plain": [
       "<Figure size 432x288 with 1 Axes>"
      ]
     },
     "metadata": {
      "needs_background": "light"
     },
     "output_type": "display_data"
    }
   ],
   "source": [
    "plot_predictions(model4, X2_test, y2_test)"
   ]
  },
  {
   "cell_type": "code",
   "execution_count": null,
   "id": "fffb5c69-09d6-474c-ada6-5b9cb29318a0",
   "metadata": {},
   "outputs": [],
   "source": []
  },
  {
   "cell_type": "code",
   "execution_count": 146,
   "id": "eac2fe5c-b5f0-4eae-ad04-dd5dd8321dc4",
   "metadata": {},
   "outputs": [],
   "source": [
    "# predict pressure as well as temp"
   ]
  },
  {
   "cell_type": "code",
   "execution_count": 147,
   "id": "af8829e0-4169-414d-85a5-f6b3ec041d60",
   "metadata": {},
   "outputs": [
    {
     "data": {
      "text/html": [
       "<div>\n",
       "<style scoped>\n",
       "    .dataframe tbody tr th:only-of-type {\n",
       "        vertical-align: middle;\n",
       "    }\n",
       "\n",
       "    .dataframe tbody tr th {\n",
       "        vertical-align: top;\n",
       "    }\n",
       "\n",
       "    .dataframe thead th {\n",
       "        text-align: right;\n",
       "    }\n",
       "</style>\n",
       "<table border=\"1\" class=\"dataframe\">\n",
       "  <thead>\n",
       "    <tr style=\"text-align: right;\">\n",
       "      <th></th>\n",
       "      <th>p (mbar)</th>\n",
       "      <th>Temperature</th>\n",
       "      <th>Day sin</th>\n",
       "      <th>Day cos</th>\n",
       "      <th>Year sin</th>\n",
       "      <th>Year cos</th>\n",
       "    </tr>\n",
       "    <tr>\n",
       "      <th>Date Time</th>\n",
       "      <th></th>\n",
       "      <th></th>\n",
       "      <th></th>\n",
       "      <th></th>\n",
       "      <th></th>\n",
       "      <th></th>\n",
       "    </tr>\n",
       "  </thead>\n",
       "  <tbody>\n",
       "    <tr>\n",
       "      <th>2009-01-01 01:00:00</th>\n",
       "      <td>996.50</td>\n",
       "      <td>-8.05</td>\n",
       "      <td>0.258819</td>\n",
       "      <td>0.965926</td>\n",
       "      <td>0.010049</td>\n",
       "      <td>0.999950</td>\n",
       "    </tr>\n",
       "    <tr>\n",
       "      <th>2009-01-01 02:00:00</th>\n",
       "      <td>996.62</td>\n",
       "      <td>-8.88</td>\n",
       "      <td>0.500000</td>\n",
       "      <td>0.866025</td>\n",
       "      <td>0.010766</td>\n",
       "      <td>0.999942</td>\n",
       "    </tr>\n",
       "    <tr>\n",
       "      <th>2009-01-01 03:00:00</th>\n",
       "      <td>996.84</td>\n",
       "      <td>-8.81</td>\n",
       "      <td>0.707107</td>\n",
       "      <td>0.707107</td>\n",
       "      <td>0.011483</td>\n",
       "      <td>0.999934</td>\n",
       "    </tr>\n",
       "    <tr>\n",
       "      <th>2009-01-01 04:00:00</th>\n",
       "      <td>996.99</td>\n",
       "      <td>-9.05</td>\n",
       "      <td>0.866025</td>\n",
       "      <td>0.500000</td>\n",
       "      <td>0.012199</td>\n",
       "      <td>0.999926</td>\n",
       "    </tr>\n",
       "    <tr>\n",
       "      <th>2009-01-01 05:00:00</th>\n",
       "      <td>997.46</td>\n",
       "      <td>-9.63</td>\n",
       "      <td>0.965926</td>\n",
       "      <td>0.258819</td>\n",
       "      <td>0.012916</td>\n",
       "      <td>0.999917</td>\n",
       "    </tr>\n",
       "    <tr>\n",
       "      <th>...</th>\n",
       "      <td>...</td>\n",
       "      <td>...</td>\n",
       "      <td>...</td>\n",
       "      <td>...</td>\n",
       "      <td>...</td>\n",
       "      <td>...</td>\n",
       "    </tr>\n",
       "    <tr>\n",
       "      <th>2016-12-31 19:10:00</th>\n",
       "      <td>1002.18</td>\n",
       "      <td>-0.98</td>\n",
       "      <td>-0.953717</td>\n",
       "      <td>0.300706</td>\n",
       "      <td>0.006900</td>\n",
       "      <td>0.999976</td>\n",
       "    </tr>\n",
       "    <tr>\n",
       "      <th>2016-12-31 20:10:00</th>\n",
       "      <td>1001.40</td>\n",
       "      <td>-1.40</td>\n",
       "      <td>-0.843391</td>\n",
       "      <td>0.537300</td>\n",
       "      <td>0.007617</td>\n",
       "      <td>0.999971</td>\n",
       "    </tr>\n",
       "    <tr>\n",
       "      <th>2016-12-31 21:10:00</th>\n",
       "      <td>1001.19</td>\n",
       "      <td>-2.75</td>\n",
       "      <td>-0.675590</td>\n",
       "      <td>0.737277</td>\n",
       "      <td>0.008334</td>\n",
       "      <td>0.999965</td>\n",
       "    </tr>\n",
       "    <tr>\n",
       "      <th>2016-12-31 22:10:00</th>\n",
       "      <td>1000.65</td>\n",
       "      <td>-2.89</td>\n",
       "      <td>-0.461749</td>\n",
       "      <td>0.887011</td>\n",
       "      <td>0.009050</td>\n",
       "      <td>0.999959</td>\n",
       "    </tr>\n",
       "    <tr>\n",
       "      <th>2016-12-31 23:10:00</th>\n",
       "      <td>1000.11</td>\n",
       "      <td>-3.93</td>\n",
       "      <td>-0.216440</td>\n",
       "      <td>0.976296</td>\n",
       "      <td>0.009767</td>\n",
       "      <td>0.999952</td>\n",
       "    </tr>\n",
       "  </tbody>\n",
       "</table>\n",
       "<p>70091 rows × 6 columns</p>\n",
       "</div>"
      ],
      "text/plain": [
       "                     p (mbar)  Temperature   Day sin   Day cos  Year sin  \\\n",
       "Date Time                                                                  \n",
       "2009-01-01 01:00:00    996.50        -8.05  0.258819  0.965926  0.010049   \n",
       "2009-01-01 02:00:00    996.62        -8.88  0.500000  0.866025  0.010766   \n",
       "2009-01-01 03:00:00    996.84        -8.81  0.707107  0.707107  0.011483   \n",
       "2009-01-01 04:00:00    996.99        -9.05  0.866025  0.500000  0.012199   \n",
       "2009-01-01 05:00:00    997.46        -9.63  0.965926  0.258819  0.012916   \n",
       "...                       ...          ...       ...       ...       ...   \n",
       "2016-12-31 19:10:00   1002.18        -0.98 -0.953717  0.300706  0.006900   \n",
       "2016-12-31 20:10:00   1001.40        -1.40 -0.843391  0.537300  0.007617   \n",
       "2016-12-31 21:10:00   1001.19        -2.75 -0.675590  0.737277  0.008334   \n",
       "2016-12-31 22:10:00   1000.65        -2.89 -0.461749  0.887011  0.009050   \n",
       "2016-12-31 23:10:00   1000.11        -3.93 -0.216440  0.976296  0.009767   \n",
       "\n",
       "                     Year cos  \n",
       "Date Time                      \n",
       "2009-01-01 01:00:00  0.999950  \n",
       "2009-01-01 02:00:00  0.999942  \n",
       "2009-01-01 03:00:00  0.999934  \n",
       "2009-01-01 04:00:00  0.999926  \n",
       "2009-01-01 05:00:00  0.999917  \n",
       "...                       ...  \n",
       "2016-12-31 19:10:00  0.999976  \n",
       "2016-12-31 20:10:00  0.999971  \n",
       "2016-12-31 21:10:00  0.999965  \n",
       "2016-12-31 22:10:00  0.999959  \n",
       "2016-12-31 23:10:00  0.999952  \n",
       "\n",
       "[70091 rows x 6 columns]"
      ]
     },
     "execution_count": 147,
     "metadata": {},
     "output_type": "execute_result"
    }
   ],
   "source": [
    "p_temp_df = pd.concat([df['p (mbar)'], temp_df], axis=1)\n",
    "p_temp_df"
   ]
  },
  {
   "cell_type": "code",
   "execution_count": null,
   "id": "daec1359-3c01-46c2-9313-31177badee5c",
   "metadata": {},
   "outputs": [],
   "source": []
  },
  {
   "cell_type": "code",
   "execution_count": 148,
   "id": "173b48c2-a705-446a-9c42-8263516f0626",
   "metadata": {},
   "outputs": [],
   "source": [
    "# [[[t1, ds1], [t2, ds2], [t3, ds3], [t4, ds4], [t5, ds5]]]  [t6]\n",
    "# [[[t2, ds2], [t3, ds3], [t4, ds4], [t5, ds5], [t6, ds6]]]  [t7]\n",
    "\n",
    "\n",
    "def df_to_X_y_3(df, window_size=7): # 7 = features+labels\n",
    "    # window_size is the number of samples to take\n",
    "    df_as_np = df.to_numpy()\n",
    "    X = []\n",
    "    y = []\n",
    "    for i in range(len(df_as_np)-window_size):\n",
    "        row = [r for r in df_as_np[i:i+window_size]]  # this creates the list of list\n",
    "        X.append(row)\n",
    "        label = [df_as_np[i+window_size][0], df_as_np[i+window_size][1]] # 0 = pressure, 1=Temperature\n",
    "        y.append(label)\n",
    "    return np.array(X), np.array(y)"
   ]
  },
  {
   "cell_type": "code",
   "execution_count": 149,
   "id": "bedf8167-962d-4e13-8d7f-b6f72a96a41a",
   "metadata": {},
   "outputs": [],
   "source": [
    "X3,y3 = df_to_X_y_3(p_temp_df)"
   ]
  },
  {
   "cell_type": "code",
   "execution_count": 150,
   "id": "65f904d9-b744-4574-8246-e3008b912066",
   "metadata": {},
   "outputs": [
    {
     "data": {
      "text/plain": [
       "((60000, 7, 6), (60000, 2))"
      ]
     },
     "execution_count": 150,
     "metadata": {},
     "output_type": "execute_result"
    }
   ],
   "source": [
    "X3_train, y3_train = X3[:60000], y3[:60000]\n",
    "X3_val, y3_val = X3[60000:65000], y3[60000:65000]\n",
    "X3_test, y3_test = X3[65000:], y3[65000:]\n",
    "X3_train.shape, y3_train.shape, \n",
    "\n"
   ]
  },
  {
   "cell_type": "code",
   "execution_count": null,
   "id": "b1fd43db-c939-4192-810d-affdc1ce35de",
   "metadata": {},
   "outputs": [],
   "source": []
  },
  {
   "cell_type": "code",
   "execution_count": 151,
   "id": "1052f283-34df-48ef-acd9-bea1dc330272",
   "metadata": {},
   "outputs": [],
   "source": [
    "p_training_mean3 = np.mean(X3_train[:,:,0])\n",
    "p_training_std3 = np.std(X3_train[:,:,0])\n",
    "\n",
    "temp_training_mean3 = np.mean(X3_train[:,:,1])\n",
    "temp_training_std3 = np.std(X3_train[:,:,1])\n"
   ]
  },
  {
   "cell_type": "code",
   "execution_count": 152,
   "id": "dfd0cf11-4d12-423e-8038-ae8a2703c23c",
   "metadata": {},
   "outputs": [],
   "source": [
    "def preprocess3(X):\n",
    "    X[:,:,0] = (X[:,:,0]-p_training_mean3)/p_training_std3\n",
    "    X[:,:,1] = (X[:,:,0]-temp_training_mean3)/temp_training_std3"
   ]
  },
  {
   "cell_type": "code",
   "execution_count": 153,
   "id": "6c617a9e-7ca3-4a36-a863-abd00d51c537",
   "metadata": {},
   "outputs": [],
   "source": [
    "def preprocess_output(y):\n",
    "    y[:,0] = (y[:,0] - p_training_mean3)/p_training_std3\n",
    "    y[:,1] = (y[:,1] - temp_training_mean3)/temp_training_std3"
   ]
  },
  {
   "cell_type": "code",
   "execution_count": 154,
   "id": "feb309d0-1501-450e-8443-cd5feb30625c",
   "metadata": {},
   "outputs": [],
   "source": [
    "preprocess3(X3_train)\n",
    "preprocess3(X3_val)\n",
    "preprocess3(X3_test)"
   ]
  },
  {
   "cell_type": "code",
   "execution_count": 155,
   "id": "99cf7b4f-312a-422a-bb2c-25f39ce49c4a",
   "metadata": {},
   "outputs": [],
   "source": [
    "preprocess_output(y3_train)\n",
    "preprocess_output(y3_val)\n",
    "preprocess_output(y3_test)"
   ]
  },
  {
   "cell_type": "code",
   "execution_count": 156,
   "id": "aff27ba2-efd7-4dd1-83f2-fb71742032c3",
   "metadata": {},
   "outputs": [
    {
     "data": {
      "text/plain": [
       "array([[ 1.2365063 , -2.05933485],\n",
       "       [ 1.29956313, -2.00761894],\n",
       "       [ 1.36989575, -1.93474652],\n",
       "       ...,\n",
       "       [ 0.59502431,  0.71922016],\n",
       "       [ 0.60472536,  0.54056518],\n",
       "       [ 0.61927694,  0.49942752]])"
      ]
     },
     "execution_count": 156,
     "metadata": {},
     "output_type": "execute_result"
    }
   ],
   "source": [
    "y3_train"
   ]
  },
  {
   "cell_type": "code",
   "execution_count": 157,
   "id": "664c9e36-63fa-4321-ab73-69e298d04c94",
   "metadata": {},
   "outputs": [
    {
     "data": {
      "text/plain": [
       "(60000, 7, 6)"
      ]
     },
     "execution_count": 157,
     "metadata": {},
     "output_type": "execute_result"
    }
   ],
   "source": [
    "X3_train.shape"
   ]
  },
  {
   "cell_type": "code",
   "execution_count": 158,
   "id": "ea79f49b-c095-43b2-9f64-3abb686178de",
   "metadata": {},
   "outputs": [
    {
     "data": {
      "text/plain": [
       "(7, 6)"
      ]
     },
     "execution_count": 158,
     "metadata": {},
     "output_type": "execute_result"
    }
   ],
   "source": [
    "X3_train.shape[1:]"
   ]
  },
  {
   "cell_type": "code",
   "execution_count": null,
   "id": "b23dc519-412c-4072-a90c-a8a77685eba6",
   "metadata": {},
   "outputs": [],
   "source": []
  },
  {
   "cell_type": "code",
   "execution_count": 159,
   "id": "6abf1f3b-c7a5-4b17-b74c-7aa6ce90a347",
   "metadata": {},
   "outputs": [
    {
     "name": "stdout",
     "output_type": "stream",
     "text": [
      "Model: \"sequential_7\"\n",
      "_________________________________________________________________\n",
      " Layer (type)                Output Shape              Param #   \n",
      "=================================================================\n",
      " lstm_5 (LSTM)               (None, 64)                18176     \n",
      "                                                                 \n",
      " dense_14 (Dense)            (None, 8)                 520       \n",
      "                                                                 \n",
      " dense_15 (Dense)            (None, 1)                 9         \n",
      "                                                                 \n",
      "=================================================================\n",
      "Total params: 18,705\n",
      "Trainable params: 18,705\n",
      "Non-trainable params: 0\n",
      "_________________________________________________________________\n"
     ]
    }
   ],
   "source": [
    "model5 = Sequential()\n",
    "model5.add(InputLayer(input_shape=X3_train.shape[1:])) # 7 timesteps or window_size, 6 columns/features\n",
    "model5.add(LSTM(64))\n",
    "model5.add(Dense(8, 'relu'))\n",
    "model5.add(Dense(1, 'linear'))\n",
    "\n",
    "model5.summary()"
   ]
  },
  {
   "cell_type": "code",
   "execution_count": null,
   "id": "b6fa2bc0-09b6-4148-bc39-51e40a4ebf73",
   "metadata": {},
   "outputs": [],
   "source": []
  },
  {
   "cell_type": "code",
   "execution_count": 160,
   "id": "97d1b4cd-e098-4e22-93b8-bad5c667e3e3",
   "metadata": {},
   "outputs": [
    {
     "name": "stdout",
     "output_type": "stream",
     "text": [
      "Epoch 1/10\n",
      "1875/1875 [==============================] - ETA: 0s - loss: 0.6015 - root_mean_squared_error: 0.7755"
     ]
    },
    {
     "name": "stderr",
     "output_type": "stream",
     "text": [
      "WARNING:absl:Found untraced functions such as lstm_cell_6_layer_call_fn, lstm_cell_6_layer_call_and_return_conditional_losses while saving (showing 2 of 2). These functions will not be directly callable after loading.\n"
     ]
    },
    {
     "name": "stdout",
     "output_type": "stream",
     "text": [
      "INFO:tensorflow:Assets written to: model5/assets\n"
     ]
    },
    {
     "name": "stderr",
     "output_type": "stream",
     "text": [
      "INFO:tensorflow:Assets written to: model5/assets\n",
      "WARNING:absl:<keras.layers.recurrent.LSTMCell object at 0x7f567fac1670> has the same name 'LSTMCell' as a built-in Keras object. Consider renaming <class 'keras.layers.recurrent.LSTMCell'> to avoid naming conflicts when loading with `tf.keras.models.load_model`. If renaming is not possible, pass the object in the `custom_objects` parameter of the load function.\n"
     ]
    },
    {
     "name": "stdout",
     "output_type": "stream",
     "text": [
      "1875/1875 [==============================] - 13s 6ms/step - loss: 0.6015 - root_mean_squared_error: 0.7755 - val_loss: 0.5984 - val_root_mean_squared_error: 0.7736\n",
      "Epoch 2/10\n",
      "1871/1875 [============================>.] - ETA: 0s - loss: 0.5857 - root_mean_squared_error: 0.7653"
     ]
    },
    {
     "name": "stderr",
     "output_type": "stream",
     "text": [
      "WARNING:absl:Found untraced functions such as lstm_cell_6_layer_call_fn, lstm_cell_6_layer_call_and_return_conditional_losses while saving (showing 2 of 2). These functions will not be directly callable after loading.\n"
     ]
    },
    {
     "name": "stdout",
     "output_type": "stream",
     "text": [
      "INFO:tensorflow:Assets written to: model5/assets\n"
     ]
    },
    {
     "name": "stderr",
     "output_type": "stream",
     "text": [
      "INFO:tensorflow:Assets written to: model5/assets\n",
      "WARNING:absl:<keras.layers.recurrent.LSTMCell object at 0x7f567fac1670> has the same name 'LSTMCell' as a built-in Keras object. Consider renaming <class 'keras.layers.recurrent.LSTMCell'> to avoid naming conflicts when loading with `tf.keras.models.load_model`. If renaming is not possible, pass the object in the `custom_objects` parameter of the load function.\n"
     ]
    },
    {
     "name": "stdout",
     "output_type": "stream",
     "text": [
      "1875/1875 [==============================] - 12s 6ms/step - loss: 0.5857 - root_mean_squared_error: 0.7653 - val_loss: 0.5984 - val_root_mean_squared_error: 0.7736\n",
      "Epoch 3/10\n",
      "1875/1875 [==============================] - 8s 4ms/step - loss: 0.5849 - root_mean_squared_error: 0.7648 - val_loss: 0.6041 - val_root_mean_squared_error: 0.7773\n",
      "Epoch 4/10\n",
      "1875/1875 [==============================] - 8s 4ms/step - loss: 0.5842 - root_mean_squared_error: 0.7643 - val_loss: 0.5987 - val_root_mean_squared_error: 0.7737\n",
      "Epoch 5/10\n",
      "1875/1875 [==============================] - 8s 4ms/step - loss: 0.5835 - root_mean_squared_error: 0.7639 - val_loss: 0.6034 - val_root_mean_squared_error: 0.7768\n",
      "Epoch 6/10\n",
      "1865/1875 [============================>.] - ETA: 0s - loss: 0.5827 - root_mean_squared_error: 0.7634"
     ]
    },
    {
     "name": "stderr",
     "output_type": "stream",
     "text": [
      "WARNING:absl:Found untraced functions such as lstm_cell_6_layer_call_fn, lstm_cell_6_layer_call_and_return_conditional_losses while saving (showing 2 of 2). These functions will not be directly callable after loading.\n"
     ]
    },
    {
     "name": "stdout",
     "output_type": "stream",
     "text": [
      "INFO:tensorflow:Assets written to: model5/assets\n"
     ]
    },
    {
     "name": "stderr",
     "output_type": "stream",
     "text": [
      "INFO:tensorflow:Assets written to: model5/assets\n",
      "WARNING:absl:<keras.layers.recurrent.LSTMCell object at 0x7f567fac1670> has the same name 'LSTMCell' as a built-in Keras object. Consider renaming <class 'keras.layers.recurrent.LSTMCell'> to avoid naming conflicts when loading with `tf.keras.models.load_model`. If renaming is not possible, pass the object in the `custom_objects` parameter of the load function.\n"
     ]
    },
    {
     "name": "stdout",
     "output_type": "stream",
     "text": [
      "1875/1875 [==============================] - 12s 6ms/step - loss: 0.5830 - root_mean_squared_error: 0.7635 - val_loss: 0.5963 - val_root_mean_squared_error: 0.7722\n",
      "Epoch 7/10\n",
      "1872/1875 [============================>.] - ETA: 0s - loss: 0.5826 - root_mean_squared_error: 0.7633"
     ]
    },
    {
     "name": "stderr",
     "output_type": "stream",
     "text": [
      "WARNING:absl:Found untraced functions such as lstm_cell_6_layer_call_fn, lstm_cell_6_layer_call_and_return_conditional_losses while saving (showing 2 of 2). These functions will not be directly callable after loading.\n"
     ]
    },
    {
     "name": "stdout",
     "output_type": "stream",
     "text": [
      "INFO:tensorflow:Assets written to: model5/assets\n"
     ]
    },
    {
     "name": "stderr",
     "output_type": "stream",
     "text": [
      "INFO:tensorflow:Assets written to: model5/assets\n",
      "WARNING:absl:<keras.layers.recurrent.LSTMCell object at 0x7f567fac1670> has the same name 'LSTMCell' as a built-in Keras object. Consider renaming <class 'keras.layers.recurrent.LSTMCell'> to avoid naming conflicts when loading with `tf.keras.models.load_model`. If renaming is not possible, pass the object in the `custom_objects` parameter of the load function.\n"
     ]
    },
    {
     "name": "stdout",
     "output_type": "stream",
     "text": [
      "1875/1875 [==============================] - 11s 6ms/step - loss: 0.5825 - root_mean_squared_error: 0.7632 - val_loss: 0.5958 - val_root_mean_squared_error: 0.7719\n",
      "Epoch 8/10\n",
      "1875/1875 [==============================] - ETA: 0s - loss: 0.5821 - root_mean_squared_error: 0.7629"
     ]
    },
    {
     "name": "stderr",
     "output_type": "stream",
     "text": [
      "WARNING:absl:Found untraced functions such as lstm_cell_6_layer_call_fn, lstm_cell_6_layer_call_and_return_conditional_losses while saving (showing 2 of 2). These functions will not be directly callable after loading.\n"
     ]
    },
    {
     "name": "stdout",
     "output_type": "stream",
     "text": [
      "INFO:tensorflow:Assets written to: model5/assets\n"
     ]
    },
    {
     "name": "stderr",
     "output_type": "stream",
     "text": [
      "INFO:tensorflow:Assets written to: model5/assets\n",
      "WARNING:absl:<keras.layers.recurrent.LSTMCell object at 0x7f567fac1670> has the same name 'LSTMCell' as a built-in Keras object. Consider renaming <class 'keras.layers.recurrent.LSTMCell'> to avoid naming conflicts when loading with `tf.keras.models.load_model`. If renaming is not possible, pass the object in the `custom_objects` parameter of the load function.\n"
     ]
    },
    {
     "name": "stdout",
     "output_type": "stream",
     "text": [
      "1875/1875 [==============================] - 11s 6ms/step - loss: 0.5821 - root_mean_squared_error: 0.7629 - val_loss: 0.5951 - val_root_mean_squared_error: 0.7714\n",
      "Epoch 9/10\n",
      "1875/1875 [==============================] - 8s 4ms/step - loss: 0.5817 - root_mean_squared_error: 0.7627 - val_loss: 0.6016 - val_root_mean_squared_error: 0.7756\n",
      "Epoch 10/10\n",
      "1869/1875 [============================>.] - ETA: 0s - loss: 0.5816 - root_mean_squared_error: 0.7626"
     ]
    },
    {
     "name": "stderr",
     "output_type": "stream",
     "text": [
      "WARNING:absl:Found untraced functions such as lstm_cell_6_layer_call_fn, lstm_cell_6_layer_call_and_return_conditional_losses while saving (showing 2 of 2). These functions will not be directly callable after loading.\n"
     ]
    },
    {
     "name": "stdout",
     "output_type": "stream",
     "text": [
      "INFO:tensorflow:Assets written to: model5/assets\n"
     ]
    },
    {
     "name": "stderr",
     "output_type": "stream",
     "text": [
      "INFO:tensorflow:Assets written to: model5/assets\n",
      "WARNING:absl:<keras.layers.recurrent.LSTMCell object at 0x7f567fac1670> has the same name 'LSTMCell' as a built-in Keras object. Consider renaming <class 'keras.layers.recurrent.LSTMCell'> to avoid naming conflicts when loading with `tf.keras.models.load_model`. If renaming is not possible, pass the object in the `custom_objects` parameter of the load function.\n"
     ]
    },
    {
     "name": "stdout",
     "output_type": "stream",
     "text": [
      "1875/1875 [==============================] - 11s 6ms/step - loss: 0.5814 - root_mean_squared_error: 0.7625 - val_loss: 0.5925 - val_root_mean_squared_error: 0.7698\n"
     ]
    },
    {
     "data": {
      "text/plain": [
       "<keras.callbacks.History at 0x7f5689b04070>"
      ]
     },
     "execution_count": 160,
     "metadata": {},
     "output_type": "execute_result"
    }
   ],
   "source": [
    "cp5 = ModelCheckpoint('model5/', save_best_only=True)\n",
    "model5.compile(loss=MeanSquaredError(), optimizer=Adam(learning_rate=0.0001), metrics=[RootMeanSquaredError()])\n",
    "model5.fit(X3_train, y3_train, validation_data=(X3_val, y3_val), epochs=10, callbacks=[cp5])\n",
    "\n"
   ]
  },
  {
   "cell_type": "code",
   "execution_count": null,
   "id": "7f2ce875-f015-4f56-b7d5-5cda34e66f69",
   "metadata": {},
   "outputs": [],
   "source": []
  },
  {
   "cell_type": "code",
   "execution_count": null,
   "id": "e0ff36de-46ec-43c2-94be-90be0f8440b8",
   "metadata": {},
   "outputs": [],
   "source": []
  },
  {
   "cell_type": "code",
   "execution_count": null,
   "id": "ae7be653-1b9c-46e8-a86f-ae3f2eff3246",
   "metadata": {},
   "outputs": [],
   "source": []
  },
  {
   "cell_type": "code",
   "execution_count": null,
   "id": "181a8e11-4067-4504-8df9-f4ecf0107862",
   "metadata": {},
   "outputs": [],
   "source": []
  }
 ],
 "metadata": {
  "kernelspec": {
   "display_name": "tfenv:Python",
   "language": "python",
   "name": "conda-env-tfenv-py"
  },
  "language_info": {
   "codemirror_mode": {
    "name": "ipython",
    "version": 3
   },
   "file_extension": ".py",
   "mimetype": "text/x-python",
   "name": "python",
   "nbconvert_exporter": "python",
   "pygments_lexer": "ipython3",
   "version": "3.9.10"
  },
  "toc-autonumbering": true,
  "toc-showcode": false,
  "toc-showmarkdowntxt": true
 },
 "nbformat": 4,
 "nbformat_minor": 5
}
